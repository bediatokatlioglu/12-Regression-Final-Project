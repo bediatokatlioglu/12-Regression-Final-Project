{
 "cells": [
  {
   "cell_type": "markdown",
   "id": "e4d1f498",
   "metadata": {},
   "source": [
    "# Regression Final Projesi"
   ]
  },
  {
   "cell_type": "markdown",
   "id": "7ec7f04f",
   "metadata": {},
   "source": [
    "## Zingat İstanbul Satılık Konut Verileri"
   ]
  },
  {
   "cell_type": "markdown",
   "id": "8a47a421",
   "metadata": {},
   "source": [
    "Bu projemizde web scraping ile zingat.com adresinden emlak verilerini çekip, inceleyeceğiz. Feature Engineering işlemlerini yaptıktan sonra bazı göreselleştirmeleri de bitirip Regression Algoritmaları ile modelleme yapacağız."
   ]
  },
  {
   "cell_type": "markdown",
   "id": "258cafc7",
   "metadata": {},
   "source": [
    "<img src=\"zingat.jpg\">"
   ]
  },
  {
   "cell_type": "markdown",
   "id": "576e2ca1",
   "metadata": {},
   "source": [
    "### Web Scraping\n",
    "Web scraping, bir web sitesinden otomatik olarak veri çekme işlemine verilen isimdir. Bu işlem, bir web sayfasının içeriğini analiz ederek, belirli verileri çekme veya kazıma amacıyla yapılır. Web scraping, verileri manuel olarak elde etmek yerine otomatikleştirilmiş bir şekilde toplamak için kullanılır.\n",
    "​\n",
    "Python, web scraping için popüler bir programlama dilidir çünkü çeşitli kütüphaneler ve araçlar sunar. Bu kütüphaneler, web sayfalarını yüklemek, içeriği analiz etmek ve istenilen verileri çekmek için kullanılabilir. Özellikle requests, BeautifulSoup, Selenium gibi kütüphaneler web scraping işlemleri için sıkça tercih edilir.\n",
    "​\n",
    "Web scraping genellikle aşağıdaki amaçlarla kullanılır:\n",
    "​\n",
    "Veri Toplama: Örneğin, fiyat karşılaştırmaları yapmak, ürün stoklarını kontrol etmek veya haber başlıklarını toplamak gibi veri toplama işlemleri için kullanılır.\n",
    "Analiz ve Tahminler: Büyük veri kümesi üzerinde analiz yapmak ve trendleri belirlemek için web scraping kullanılabilir.\n",
    "Rakip Analizi: Rakiplerin ürünleri, fiyatları veya stratejileri hakkında bilgi edinmek için kullanılabilir.\n",
    "Pazar Araştırması: Tüketici görüşlerini, incelemeleri veya anket sonuçlarını toplamak için web scraping yapılabilir.\n",
    "Ancak, web scraping yaparken hukuki ve etik sorunları dikkate almak önemlidir. Web scraping, bir web sitesinin kullanım koşullarına veya telif hakkı haklarına aykırı olabilir. Bu nedenle, veri toplarken hedef web sitesinin politikalarını okumak ve uygun izinleri almak önemlidir."
   ]
  },
  {
   "cell_type": "code",
   "execution_count": 4,
   "id": "485000a5",
   "metadata": {},
   "outputs": [],
   "source": [
    "from bs4 import BeautifulSoup as bs\n",
    "import requests\n",
    "import os\n",
    "import pandas as pd\n",
    "from IPython.display import clear_output\n",
    "import seaborn as sns\n",
    "import matplotlib.pyplot as plt\n",
    "import numpy as np\n",
    "from csv import writer\n",
    "import re\n",
    "import seaborn as sns\n",
    "import matplotlib.pyplot as plt\n",
    "\n",
    "pd.set_option('display.max_columns',100)\n",
    "\n",
    "import warnings\n",
    "warnings.filterwarnings(\"ignore\")"
   ]
  },
  {
   "cell_type": "code",
   "execution_count": 9,
   "id": "bd661ece",
   "metadata": {},
   "outputs": [],
   "source": [
    "tumiller = ['istanbul']"
   ]
  },
  {
   "cell_type": "code",
   "execution_count": 10,
   "id": "3887337e",
   "metadata": {},
   "outputs": [
    {
     "name": "stdout",
     "output_type": "stream",
     "text": [
      "1\n"
     ]
    }
   ],
   "source": [
    "iller = []\n",
    "sayfalar = []\n",
    "for il in tumiller:\n",
    "    url=\"https://www.zingat.com/\" + il +\"-satilik-daire?page=\"\n",
    "    iller.append(url)\n",
    "z = 1\n",
    "for i in range(0,len(iller)):\n",
    "    clear_output(wait=True)\n",
    "    print(z)\n",
    "    illistesi = requests.get(iller[i]).text\n",
    "    soup = bs(illistesi, 'html.parser')\n",
    "    try:\n",
    "        pag = soup.find(\"nav\", \"zng-pagination\")['data-total']\n",
    "        for j in range(2, int(pag)):\n",
    "            sayfa = iller[i] + str(j)\n",
    "            sayfalar.append(sayfa)\n",
    "            z = z + 1\n",
    "    except:\n",
    "        continue\n",
    "sayfalar.extend(iller)"
   ]
  },
  {
   "cell_type": "code",
   "execution_count": 11,
   "id": "fb42347b",
   "metadata": {},
   "outputs": [
    {
     "name": "stdout",
     "output_type": "stream",
     "text": [
      "47\n"
     ]
    }
   ],
   "source": [
    "sayfaurl = []\n",
    "satisurl = []\n",
    "k = 1\n",
    "m = 1\n",
    "for sayfa in sayfalar:\n",
    "    clear_output(wait=True)\n",
    "    print(m)\n",
    "    req = requests.get(sayfa)\n",
    "    soup = bs(req.text, \"html.parser\")\n",
    "    sayfaurl.append(soup.select(\".zl-card-inner\"))\n",
    "    m = m + 1\n",
    "for page in sayfaurl:\n",
    "    for link in page:\n",
    "        satisurl.append(\"https://www.zingat.com\" + link.get(\"href\"))"
   ]
  },
  {
   "cell_type": "code",
   "execution_count": 12,
   "id": "57c40ccf",
   "metadata": {},
   "outputs": [
    {
     "name": "stdout",
     "output_type": "stream",
     "text": [
      "987\n"
     ]
    }
   ],
   "source": [
    "ozellikler = []\n",
    "fiyatlar = []\n",
    "mahalle = []\n",
    "ilce =[]\n",
    "il = []\n",
    "gun = []\n",
    "ay = []\n",
    "yil = []\n",
    "n = 1\n",
    "\n",
    "for url in satisurl:\n",
    "    try:\n",
    "        clear_output(wait=True) \n",
    "        print(n)\n",
    "        req = requests.get(url)\n",
    "        soup = bs(req.text, \"html.parser\")\n",
    "        ozellikler.append([tag.text.strip() for tag in soup.find_all([\"strong\", \"span\"], {\"class\": \"col-md-6\"})])\n",
    "        fiyatlar.append(soup.find(\"strong\", itemprop = \"price\").text.replace(\"TL\", \"\").replace(\".\",\"\").replace(\" \",\"\"))\n",
    "        mahalle.append(soup.find(\"div\", \"detail-location-path__map\").find(\"h2\").text.replace(\"\\n\",\"\").replace(\" \", \"\").split(\",\")[0])\n",
    "        ilce.append(soup.find(\"div\", \"detail-location-path__map\").find(\"h2\").text.replace(\"\\n\",\"\").replace(\" \", \"\").split(\",\")[1])\n",
    "        il.append(soup.find(\"div\", \"detail-location-path__map\").find(\"h2\").text.replace(\"\\n\",\"\").replace(\" \", \"\").split(\",\")[2])\n",
    "        gun.append(soup.find(\"div\", \"detail-info not-printable\").find_all(\"div\")[3].find(\"strong\").text.split(\" \")[0])\n",
    "        ay.append(soup.find(\"div\", \"detail-info not-printable\").find_all(\"div\")[3].find(\"strong\").text.split(\" \")[1])\n",
    "        yil.append(soup.find(\"div\", \"detail-info not-printable\").find_all(\"div\")[3].find(\"strong\").text.split(\" \")[2])\n",
    "        n = n + 1\n",
    "    except:\n",
    "        continue\n",
    "    \n",
    "ozelliklerYeni = []\n",
    "for ozellik in ozellikler:\n",
    "    ozelliklerYeni.append(dict(zip(ozellik[::2], ozellik[1::2])))"
   ]
  },
  {
   "cell_type": "code",
   "execution_count": 14,
   "id": "fe81c6d6",
   "metadata": {
    "scrolled": true
   },
   "outputs": [],
   "source": [
    "df = pd.DataFrame(ozelliklerYeni)"
   ]
  },
  {
   "cell_type": "code",
   "execution_count": 16,
   "id": "31316bd8",
   "metadata": {},
   "outputs": [],
   "source": [
    "pd.set_option('display.max_columns',100)"
   ]
  },
  {
   "cell_type": "code",
   "execution_count": 17,
   "id": "9d127466",
   "metadata": {},
   "outputs": [
    {
     "data": {
      "text/html": [
       "<div>\n",
       "<style scoped>\n",
       "    .dataframe tbody tr th:only-of-type {\n",
       "        vertical-align: middle;\n",
       "    }\n",
       "\n",
       "    .dataframe tbody tr th {\n",
       "        vertical-align: top;\n",
       "    }\n",
       "\n",
       "    .dataframe thead th {\n",
       "        text-align: right;\n",
       "    }\n",
       "</style>\n",
       "<table border=\"1\" class=\"dataframe\">\n",
       "  <thead>\n",
       "    <tr style=\"text-align: right;\">\n",
       "      <th></th>\n",
       "      <th>İlan Tarihi</th>\n",
       "      <th>İlan no</th>\n",
       "      <th>Net m²</th>\n",
       "      <th>Brüt m²</th>\n",
       "      <th>Oda Sayısı</th>\n",
       "      <th>Banyo Sayısı</th>\n",
       "      <th>Binadaki Kat Sayısı</th>\n",
       "      <th>Isıtma Tipi</th>\n",
       "      <th>Konut Şekli</th>\n",
       "      <th>Bulunduğu Kat</th>\n",
       "      <th>Görüntülü Ev Gezintisi\\n                                                                ?</th>\n",
       "      <th>Bina Yaşı</th>\n",
       "      <th>Mobilya Durumu</th>\n",
       "      <th>Kullanım Durumu</th>\n",
       "      <th>Yapının Durumu</th>\n",
       "      <th>Kimden</th>\n",
       "      <th>Tapu Durumu</th>\n",
       "      <th>Krediye Uygun</th>\n",
       "      <th>Takasa Uygun</th>\n",
       "      <th>Hayvan Dostu Patili Evler</th>\n",
       "      <th>Aidat</th>\n",
       "      <th>Kira Getirisi</th>\n",
       "      <th>Parsel</th>\n",
       "      <th>Ada</th>\n",
       "    </tr>\n",
       "  </thead>\n",
       "  <tbody>\n",
       "    <tr>\n",
       "      <th>0</th>\n",
       "      <td>23 Ağustos 2023</td>\n",
       "      <td>4863646</td>\n",
       "      <td>110</td>\n",
       "      <td>120m²</td>\n",
       "      <td>3+1</td>\n",
       "      <td>2</td>\n",
       "      <td>10</td>\n",
       "      <td>Kombi (Doğalgaz)</td>\n",
       "      <td>Ara Kat</td>\n",
       "      <td>4</td>\n",
       "      <td>Hayır</td>\n",
       "      <td>0</td>\n",
       "      <td>Eşyasız</td>\n",
       "      <td>Boş</td>\n",
       "      <td>Sıfır</td>\n",
       "      <td>Danışman</td>\n",
       "      <td>Kat İrtifakı</td>\n",
       "      <td>Evet</td>\n",
       "      <td>NaN</td>\n",
       "      <td>NaN</td>\n",
       "      <td>NaN</td>\n",
       "      <td>NaN</td>\n",
       "      <td>NaN</td>\n",
       "      <td>NaN</td>\n",
       "    </tr>\n",
       "    <tr>\n",
       "      <th>1</th>\n",
       "      <td>23 Ağustos 2023</td>\n",
       "      <td>4863704</td>\n",
       "      <td>90</td>\n",
       "      <td>100m²</td>\n",
       "      <td>2+1</td>\n",
       "      <td>1</td>\n",
       "      <td>4</td>\n",
       "      <td>Kalorifer (Doğalgaz)</td>\n",
       "      <td>Ara Kat</td>\n",
       "      <td>1</td>\n",
       "      <td>Hayır</td>\n",
       "      <td>3</td>\n",
       "      <td>Eşyasız</td>\n",
       "      <td>Boş</td>\n",
       "      <td>Sıfır</td>\n",
       "      <td>Danışman</td>\n",
       "      <td>İskanı Alınmış</td>\n",
       "      <td>Evet</td>\n",
       "      <td>Evet</td>\n",
       "      <td>NaN</td>\n",
       "      <td>NaN</td>\n",
       "      <td>NaN</td>\n",
       "      <td>NaN</td>\n",
       "      <td>NaN</td>\n",
       "    </tr>\n",
       "    <tr>\n",
       "      <th>2</th>\n",
       "      <td>22 Ağustos 2023</td>\n",
       "      <td>4862697</td>\n",
       "      <td>120</td>\n",
       "      <td>140m²</td>\n",
       "      <td>3+1</td>\n",
       "      <td>1</td>\n",
       "      <td>4</td>\n",
       "      <td>Kombi (Doğalgaz)</td>\n",
       "      <td>Ara Kat</td>\n",
       "      <td>7</td>\n",
       "      <td>Hayır</td>\n",
       "      <td>2</td>\n",
       "      <td>Eşyasız</td>\n",
       "      <td>Kiracılı</td>\n",
       "      <td>Sıfır</td>\n",
       "      <td>İnşaat Geliştirici</td>\n",
       "      <td>Kat Mülkiyeti</td>\n",
       "      <td>Evet</td>\n",
       "      <td>Evet</td>\n",
       "      <td>Evet</td>\n",
       "      <td>NaN</td>\n",
       "      <td>NaN</td>\n",
       "      <td>NaN</td>\n",
       "      <td>NaN</td>\n",
       "    </tr>\n",
       "    <tr>\n",
       "      <th>3</th>\n",
       "      <td>22 Ağustos 2023</td>\n",
       "      <td>4827458</td>\n",
       "      <td>95</td>\n",
       "      <td>110m²</td>\n",
       "      <td>1+1</td>\n",
       "      <td>1</td>\n",
       "      <td>8</td>\n",
       "      <td>Kombi (Doğalgaz)</td>\n",
       "      <td>Ara Kat</td>\n",
       "      <td>3</td>\n",
       "      <td>Evet</td>\n",
       "      <td>3</td>\n",
       "      <td>Eşyasız</td>\n",
       "      <td>Mülk Sahibi</td>\n",
       "      <td>İkinci El</td>\n",
       "      <td>Danışman</td>\n",
       "      <td>Kat Mülkiyeti</td>\n",
       "      <td>Evet</td>\n",
       "      <td>Evet</td>\n",
       "      <td>NaN</td>\n",
       "      <td>0  TL  (aylık)</td>\n",
       "      <td>0  TL  (aylık)</td>\n",
       "      <td>NaN</td>\n",
       "      <td>NaN</td>\n",
       "    </tr>\n",
       "    <tr>\n",
       "      <th>4</th>\n",
       "      <td>22 Ağustos 2023</td>\n",
       "      <td>4798528</td>\n",
       "      <td>250</td>\n",
       "      <td>280m²</td>\n",
       "      <td>6+2</td>\n",
       "      <td>2</td>\n",
       "      <td>6</td>\n",
       "      <td>Kombi (Doğalgaz)</td>\n",
       "      <td>NaN</td>\n",
       "      <td>En Üst Kat</td>\n",
       "      <td>NaN</td>\n",
       "      <td>0</td>\n",
       "      <td>Eşyasız</td>\n",
       "      <td>Boş</td>\n",
       "      <td>Sıfır</td>\n",
       "      <td>NaN</td>\n",
       "      <td>Kat Mülkiyeti</td>\n",
       "      <td>Evet</td>\n",
       "      <td>NaN</td>\n",
       "      <td>NaN</td>\n",
       "      <td>150  TL  (aylık)</td>\n",
       "      <td>30.000  TL  (aylık)</td>\n",
       "      <td>NaN</td>\n",
       "      <td>NaN</td>\n",
       "    </tr>\n",
       "  </tbody>\n",
       "</table>\n",
       "</div>"
      ],
      "text/plain": [
       "       İlan Tarihi  İlan no Net m² Brüt m² Oda Sayısı Banyo Sayısı  \\\n",
       "0  23 Ağustos 2023  4863646    110   120m²        3+1            2   \n",
       "1  23 Ağustos 2023  4863704     90   100m²        2+1            1   \n",
       "2  22 Ağustos 2023  4862697    120   140m²        3+1            1   \n",
       "3  22 Ağustos 2023  4827458     95   110m²        1+1            1   \n",
       "4  22 Ağustos 2023  4798528    250   280m²        6+2            2   \n",
       "\n",
       "  Binadaki Kat Sayısı           Isıtma Tipi Konut Şekli Bulunduğu Kat  \\\n",
       "0                  10      Kombi (Doğalgaz)     Ara Kat             4   \n",
       "1                   4  Kalorifer (Doğalgaz)     Ara Kat             1   \n",
       "2                   4      Kombi (Doğalgaz)     Ara Kat             7   \n",
       "3                   8      Kombi (Doğalgaz)     Ara Kat             3   \n",
       "4                   6      Kombi (Doğalgaz)         NaN    En Üst Kat   \n",
       "\n",
       "  Görüntülü Ev Gezintisi\\n                                                                ?  \\\n",
       "0                                              Hayır                                          \n",
       "1                                              Hayır                                          \n",
       "2                                              Hayır                                          \n",
       "3                                               Evet                                          \n",
       "4                                                NaN                                          \n",
       "\n",
       "  Bina Yaşı Mobilya Durumu Kullanım Durumu Yapının Durumu              Kimden  \\\n",
       "0         0        Eşyasız             Boş          Sıfır            Danışman   \n",
       "1         3        Eşyasız             Boş          Sıfır            Danışman   \n",
       "2         2        Eşyasız        Kiracılı          Sıfır  İnşaat Geliştirici   \n",
       "3         3        Eşyasız     Mülk Sahibi      İkinci El            Danışman   \n",
       "4         0        Eşyasız             Boş          Sıfır                 NaN   \n",
       "\n",
       "      Tapu Durumu Krediye Uygun Takasa Uygun Hayvan Dostu Patili Evler  \\\n",
       "0    Kat İrtifakı          Evet          NaN                       NaN   \n",
       "1  İskanı Alınmış          Evet         Evet                       NaN   \n",
       "2   Kat Mülkiyeti          Evet         Evet                      Evet   \n",
       "3   Kat Mülkiyeti          Evet         Evet                       NaN   \n",
       "4   Kat Mülkiyeti          Evet          NaN                       NaN   \n",
       "\n",
       "              Aidat        Kira Getirisi Parsel  Ada  \n",
       "0               NaN                  NaN    NaN  NaN  \n",
       "1               NaN                  NaN    NaN  NaN  \n",
       "2               NaN                  NaN    NaN  NaN  \n",
       "3    0  TL  (aylık)       0  TL  (aylık)    NaN  NaN  \n",
       "4  150  TL  (aylık)  30.000  TL  (aylık)    NaN  NaN  "
      ]
     },
     "execution_count": 17,
     "metadata": {},
     "output_type": "execute_result"
    }
   ],
   "source": [
    "df.head()"
   ]
  },
  {
   "cell_type": "code",
   "execution_count": 18,
   "id": "27a1a8cf",
   "metadata": {},
   "outputs": [],
   "source": [
    "df['Fiyat'] = pd.Series(fiyatlar)\n",
    "df['İl'] = pd.Series(il)\n",
    "df['İlçe'] = pd.Series(ilce)\n",
    "df['Mahalle'] = pd.Series(mahalle)\n",
    "df['İlan Gün'] = pd.Series(gun)\n",
    "df['İlan Ay'] = pd.Series(ay)\n",
    "df[\"İlan Yıl\"] = pd.Series(yil)"
   ]
  },
  {
   "cell_type": "code",
   "execution_count": 31,
   "id": "d46503e9",
   "metadata": {
    "collapsed": true
   },
   "outputs": [
    {
     "ename": "KeyError",
     "evalue": "\"['Takasa Uygun', 'Aidat', 'Kira Getirisi', 'Ada', 'Kimden', 'Konut Şekli', 'Hayvan Dostu Patili Evler', 'Tapu Durumu', 'Parsel', 'Kira Getirisi'] not found in axis\"",
     "output_type": "error",
     "traceback": [
      "\u001b[1;31m---------------------------------------------------------------------------\u001b[0m",
      "\u001b[1;31mKeyError\u001b[0m                                  Traceback (most recent call last)",
      "Cell \u001b[1;32mIn[31], line 1\u001b[0m\n\u001b[1;32m----> 1\u001b[0m \u001b[43mdf\u001b[49m\u001b[38;5;241;43m.\u001b[39;49m\u001b[43mdrop\u001b[49m\u001b[43m(\u001b[49m\u001b[43m[\u001b[49m\u001b[38;5;124;43m'\u001b[39;49m\u001b[38;5;124;43mTakasa Uygun\u001b[39;49m\u001b[38;5;124;43m'\u001b[39;49m\u001b[43m,\u001b[49m\u001b[38;5;124;43m'\u001b[39;49m\u001b[38;5;124;43mAidat\u001b[39;49m\u001b[38;5;124;43m'\u001b[39;49m\u001b[43m,\u001b[49m\u001b[38;5;124;43m'\u001b[39;49m\u001b[38;5;124;43mKira Getirisi\u001b[39;49m\u001b[38;5;124;43m'\u001b[39;49m\u001b[43m,\u001b[49m\u001b[38;5;124;43m'\u001b[39;49m\u001b[38;5;124;43mAda\u001b[39;49m\u001b[38;5;124;43m'\u001b[39;49m\u001b[43m,\u001b[49m\u001b[38;5;124;43m'\u001b[39;49m\u001b[38;5;124;43mKimden\u001b[39;49m\u001b[38;5;124;43m'\u001b[39;49m\u001b[43m,\u001b[49m\u001b[38;5;124;43m'\u001b[39;49m\u001b[38;5;124;43mKonut Şekli\u001b[39;49m\u001b[38;5;124;43m'\u001b[39;49m\u001b[43m,\u001b[49m\u001b[38;5;124;43m'\u001b[39;49m\u001b[38;5;124;43mHayvan Dostu Patili Evler\u001b[39;49m\u001b[38;5;124;43m'\u001b[39;49m\u001b[43m,\u001b[49m\u001b[38;5;124;43m'\u001b[39;49m\u001b[38;5;124;43mTapu Durumu\u001b[39;49m\u001b[38;5;124;43m'\u001b[39;49m\u001b[43m,\u001b[49m\u001b[38;5;124;43m'\u001b[39;49m\u001b[38;5;124;43mParsel\u001b[39;49m\u001b[38;5;124;43m'\u001b[39;49m\u001b[43m,\u001b[49m\u001b[38;5;124;43m\"\u001b[39;49m\u001b[38;5;124;43mKira Getirisi\u001b[39;49m\u001b[38;5;124;43m\"\u001b[39;49m\u001b[43m]\u001b[49m\u001b[43m,\u001b[49m\u001b[43m \u001b[49m\u001b[43maxis\u001b[49m\u001b[38;5;241;43m=\u001b[39;49m\u001b[38;5;241;43m1\u001b[39;49m\u001b[43m,\u001b[49m\u001b[43m \u001b[49m\u001b[43minplace\u001b[49m\u001b[38;5;241;43m=\u001b[39;49m\u001b[38;5;28;43;01mTrue\u001b[39;49;00m\u001b[43m)\u001b[49m\n\u001b[0;32m      3\u001b[0m df \u001b[38;5;241m=\u001b[39m df[\u001b[38;5;124m'\u001b[39m\u001b[38;5;124mOda Sayısı\u001b[39m\u001b[38;5;124m'\u001b[39m]\u001b[38;5;241m.\u001b[39mstr\u001b[38;5;241m.\u001b[39mrsplit(\u001b[38;5;124m'\u001b[39m\u001b[38;5;124m+\u001b[39m\u001b[38;5;124m'\u001b[39m, \u001b[38;5;241m0\u001b[39m, expand\u001b[38;5;241m=\u001b[39m\u001b[38;5;28;01mTrue\u001b[39;00m)\u001b[38;5;241m.\u001b[39mjoin(df)\n\u001b[0;32m      4\u001b[0m df\u001b[38;5;241m=\u001b[39mdf\u001b[38;5;241m.\u001b[39mrename(columns \u001b[38;5;241m=\u001b[39m {\u001b[38;5;241m0\u001b[39m:\u001b[38;5;124m'\u001b[39m\u001b[38;5;124mİlan Oda Sayısı\u001b[39m\u001b[38;5;124m'\u001b[39m})\n",
      "File \u001b[1;32m~\\anaconda3\\lib\\site-packages\\pandas\\util\\_decorators.py:331\u001b[0m, in \u001b[0;36mdeprecate_nonkeyword_arguments.<locals>.decorate.<locals>.wrapper\u001b[1;34m(*args, **kwargs)\u001b[0m\n\u001b[0;32m    325\u001b[0m \u001b[38;5;28;01mif\u001b[39;00m \u001b[38;5;28mlen\u001b[39m(args) \u001b[38;5;241m>\u001b[39m num_allow_args:\n\u001b[0;32m    326\u001b[0m     warnings\u001b[38;5;241m.\u001b[39mwarn(\n\u001b[0;32m    327\u001b[0m         msg\u001b[38;5;241m.\u001b[39mformat(arguments\u001b[38;5;241m=\u001b[39m_format_argument_list(allow_args)),\n\u001b[0;32m    328\u001b[0m         \u001b[38;5;167;01mFutureWarning\u001b[39;00m,\n\u001b[0;32m    329\u001b[0m         stacklevel\u001b[38;5;241m=\u001b[39mfind_stack_level(),\n\u001b[0;32m    330\u001b[0m     )\n\u001b[1;32m--> 331\u001b[0m \u001b[38;5;28;01mreturn\u001b[39;00m func(\u001b[38;5;241m*\u001b[39margs, \u001b[38;5;241m*\u001b[39m\u001b[38;5;241m*\u001b[39mkwargs)\n",
      "File \u001b[1;32m~\\anaconda3\\lib\\site-packages\\pandas\\core\\frame.py:5399\u001b[0m, in \u001b[0;36mDataFrame.drop\u001b[1;34m(self, labels, axis, index, columns, level, inplace, errors)\u001b[0m\n\u001b[0;32m   5251\u001b[0m \u001b[38;5;129m@deprecate_nonkeyword_arguments\u001b[39m(version\u001b[38;5;241m=\u001b[39m\u001b[38;5;28;01mNone\u001b[39;00m, allowed_args\u001b[38;5;241m=\u001b[39m[\u001b[38;5;124m\"\u001b[39m\u001b[38;5;124mself\u001b[39m\u001b[38;5;124m\"\u001b[39m, \u001b[38;5;124m\"\u001b[39m\u001b[38;5;124mlabels\u001b[39m\u001b[38;5;124m\"\u001b[39m])\n\u001b[0;32m   5252\u001b[0m \u001b[38;5;28;01mdef\u001b[39;00m \u001b[38;5;21mdrop\u001b[39m(  \u001b[38;5;66;03m# type: ignore[override]\u001b[39;00m\n\u001b[0;32m   5253\u001b[0m     \u001b[38;5;28mself\u001b[39m,\n\u001b[1;32m   (...)\u001b[0m\n\u001b[0;32m   5260\u001b[0m     errors: IgnoreRaise \u001b[38;5;241m=\u001b[39m \u001b[38;5;124m\"\u001b[39m\u001b[38;5;124mraise\u001b[39m\u001b[38;5;124m\"\u001b[39m,\n\u001b[0;32m   5261\u001b[0m ) \u001b[38;5;241m-\u001b[39m\u001b[38;5;241m>\u001b[39m DataFrame \u001b[38;5;241m|\u001b[39m \u001b[38;5;28;01mNone\u001b[39;00m:\n\u001b[0;32m   5262\u001b[0m     \u001b[38;5;124;03m\"\"\"\u001b[39;00m\n\u001b[0;32m   5263\u001b[0m \u001b[38;5;124;03m    Drop specified labels from rows or columns.\u001b[39;00m\n\u001b[0;32m   5264\u001b[0m \n\u001b[1;32m   (...)\u001b[0m\n\u001b[0;32m   5397\u001b[0m \u001b[38;5;124;03m            weight  1.0     0.8\u001b[39;00m\n\u001b[0;32m   5398\u001b[0m \u001b[38;5;124;03m    \"\"\"\u001b[39;00m\n\u001b[1;32m-> 5399\u001b[0m     \u001b[38;5;28;01mreturn\u001b[39;00m \u001b[38;5;28;43msuper\u001b[39;49m\u001b[43m(\u001b[49m\u001b[43m)\u001b[49m\u001b[38;5;241;43m.\u001b[39;49m\u001b[43mdrop\u001b[49m\u001b[43m(\u001b[49m\n\u001b[0;32m   5400\u001b[0m \u001b[43m        \u001b[49m\u001b[43mlabels\u001b[49m\u001b[38;5;241;43m=\u001b[39;49m\u001b[43mlabels\u001b[49m\u001b[43m,\u001b[49m\n\u001b[0;32m   5401\u001b[0m \u001b[43m        \u001b[49m\u001b[43maxis\u001b[49m\u001b[38;5;241;43m=\u001b[39;49m\u001b[43maxis\u001b[49m\u001b[43m,\u001b[49m\n\u001b[0;32m   5402\u001b[0m \u001b[43m        \u001b[49m\u001b[43mindex\u001b[49m\u001b[38;5;241;43m=\u001b[39;49m\u001b[43mindex\u001b[49m\u001b[43m,\u001b[49m\n\u001b[0;32m   5403\u001b[0m \u001b[43m        \u001b[49m\u001b[43mcolumns\u001b[49m\u001b[38;5;241;43m=\u001b[39;49m\u001b[43mcolumns\u001b[49m\u001b[43m,\u001b[49m\n\u001b[0;32m   5404\u001b[0m \u001b[43m        \u001b[49m\u001b[43mlevel\u001b[49m\u001b[38;5;241;43m=\u001b[39;49m\u001b[43mlevel\u001b[49m\u001b[43m,\u001b[49m\n\u001b[0;32m   5405\u001b[0m \u001b[43m        \u001b[49m\u001b[43minplace\u001b[49m\u001b[38;5;241;43m=\u001b[39;49m\u001b[43minplace\u001b[49m\u001b[43m,\u001b[49m\n\u001b[0;32m   5406\u001b[0m \u001b[43m        \u001b[49m\u001b[43merrors\u001b[49m\u001b[38;5;241;43m=\u001b[39;49m\u001b[43merrors\u001b[49m\u001b[43m,\u001b[49m\n\u001b[0;32m   5407\u001b[0m \u001b[43m    \u001b[49m\u001b[43m)\u001b[49m\n",
      "File \u001b[1;32m~\\anaconda3\\lib\\site-packages\\pandas\\util\\_decorators.py:331\u001b[0m, in \u001b[0;36mdeprecate_nonkeyword_arguments.<locals>.decorate.<locals>.wrapper\u001b[1;34m(*args, **kwargs)\u001b[0m\n\u001b[0;32m    325\u001b[0m \u001b[38;5;28;01mif\u001b[39;00m \u001b[38;5;28mlen\u001b[39m(args) \u001b[38;5;241m>\u001b[39m num_allow_args:\n\u001b[0;32m    326\u001b[0m     warnings\u001b[38;5;241m.\u001b[39mwarn(\n\u001b[0;32m    327\u001b[0m         msg\u001b[38;5;241m.\u001b[39mformat(arguments\u001b[38;5;241m=\u001b[39m_format_argument_list(allow_args)),\n\u001b[0;32m    328\u001b[0m         \u001b[38;5;167;01mFutureWarning\u001b[39;00m,\n\u001b[0;32m    329\u001b[0m         stacklevel\u001b[38;5;241m=\u001b[39mfind_stack_level(),\n\u001b[0;32m    330\u001b[0m     )\n\u001b[1;32m--> 331\u001b[0m \u001b[38;5;28;01mreturn\u001b[39;00m func(\u001b[38;5;241m*\u001b[39margs, \u001b[38;5;241m*\u001b[39m\u001b[38;5;241m*\u001b[39mkwargs)\n",
      "File \u001b[1;32m~\\anaconda3\\lib\\site-packages\\pandas\\core\\generic.py:4505\u001b[0m, in \u001b[0;36mNDFrame.drop\u001b[1;34m(self, labels, axis, index, columns, level, inplace, errors)\u001b[0m\n\u001b[0;32m   4503\u001b[0m \u001b[38;5;28;01mfor\u001b[39;00m axis, labels \u001b[38;5;129;01min\u001b[39;00m axes\u001b[38;5;241m.\u001b[39mitems():\n\u001b[0;32m   4504\u001b[0m     \u001b[38;5;28;01mif\u001b[39;00m labels \u001b[38;5;129;01mis\u001b[39;00m \u001b[38;5;129;01mnot\u001b[39;00m \u001b[38;5;28;01mNone\u001b[39;00m:\n\u001b[1;32m-> 4505\u001b[0m         obj \u001b[38;5;241m=\u001b[39m \u001b[43mobj\u001b[49m\u001b[38;5;241;43m.\u001b[39;49m\u001b[43m_drop_axis\u001b[49m\u001b[43m(\u001b[49m\u001b[43mlabels\u001b[49m\u001b[43m,\u001b[49m\u001b[43m \u001b[49m\u001b[43maxis\u001b[49m\u001b[43m,\u001b[49m\u001b[43m \u001b[49m\u001b[43mlevel\u001b[49m\u001b[38;5;241;43m=\u001b[39;49m\u001b[43mlevel\u001b[49m\u001b[43m,\u001b[49m\u001b[43m \u001b[49m\u001b[43merrors\u001b[49m\u001b[38;5;241;43m=\u001b[39;49m\u001b[43merrors\u001b[49m\u001b[43m)\u001b[49m\n\u001b[0;32m   4507\u001b[0m \u001b[38;5;28;01mif\u001b[39;00m inplace:\n\u001b[0;32m   4508\u001b[0m     \u001b[38;5;28mself\u001b[39m\u001b[38;5;241m.\u001b[39m_update_inplace(obj)\n",
      "File \u001b[1;32m~\\anaconda3\\lib\\site-packages\\pandas\\core\\generic.py:4546\u001b[0m, in \u001b[0;36mNDFrame._drop_axis\u001b[1;34m(self, labels, axis, level, errors, only_slice)\u001b[0m\n\u001b[0;32m   4544\u001b[0m         new_axis \u001b[38;5;241m=\u001b[39m axis\u001b[38;5;241m.\u001b[39mdrop(labels, level\u001b[38;5;241m=\u001b[39mlevel, errors\u001b[38;5;241m=\u001b[39merrors)\n\u001b[0;32m   4545\u001b[0m     \u001b[38;5;28;01melse\u001b[39;00m:\n\u001b[1;32m-> 4546\u001b[0m         new_axis \u001b[38;5;241m=\u001b[39m \u001b[43maxis\u001b[49m\u001b[38;5;241;43m.\u001b[39;49m\u001b[43mdrop\u001b[49m\u001b[43m(\u001b[49m\u001b[43mlabels\u001b[49m\u001b[43m,\u001b[49m\u001b[43m \u001b[49m\u001b[43merrors\u001b[49m\u001b[38;5;241;43m=\u001b[39;49m\u001b[43merrors\u001b[49m\u001b[43m)\u001b[49m\n\u001b[0;32m   4547\u001b[0m     indexer \u001b[38;5;241m=\u001b[39m axis\u001b[38;5;241m.\u001b[39mget_indexer(new_axis)\n\u001b[0;32m   4549\u001b[0m \u001b[38;5;66;03m# Case for non-unique axis\u001b[39;00m\n\u001b[0;32m   4550\u001b[0m \u001b[38;5;28;01melse\u001b[39;00m:\n",
      "File \u001b[1;32m~\\anaconda3\\lib\\site-packages\\pandas\\core\\indexes\\base.py:6934\u001b[0m, in \u001b[0;36mIndex.drop\u001b[1;34m(self, labels, errors)\u001b[0m\n\u001b[0;32m   6932\u001b[0m \u001b[38;5;28;01mif\u001b[39;00m mask\u001b[38;5;241m.\u001b[39many():\n\u001b[0;32m   6933\u001b[0m     \u001b[38;5;28;01mif\u001b[39;00m errors \u001b[38;5;241m!=\u001b[39m \u001b[38;5;124m\"\u001b[39m\u001b[38;5;124mignore\u001b[39m\u001b[38;5;124m\"\u001b[39m:\n\u001b[1;32m-> 6934\u001b[0m         \u001b[38;5;28;01mraise\u001b[39;00m \u001b[38;5;167;01mKeyError\u001b[39;00m(\u001b[38;5;124mf\u001b[39m\u001b[38;5;124m\"\u001b[39m\u001b[38;5;132;01m{\u001b[39;00m\u001b[38;5;28mlist\u001b[39m(labels[mask])\u001b[38;5;132;01m}\u001b[39;00m\u001b[38;5;124m not found in axis\u001b[39m\u001b[38;5;124m\"\u001b[39m)\n\u001b[0;32m   6935\u001b[0m     indexer \u001b[38;5;241m=\u001b[39m indexer[\u001b[38;5;241m~\u001b[39mmask]\n\u001b[0;32m   6936\u001b[0m \u001b[38;5;28;01mreturn\u001b[39;00m \u001b[38;5;28mself\u001b[39m\u001b[38;5;241m.\u001b[39mdelete(indexer)\n",
      "\u001b[1;31mKeyError\u001b[0m: \"['Takasa Uygun', 'Aidat', 'Kira Getirisi', 'Ada', 'Kimden', 'Konut Şekli', 'Hayvan Dostu Patili Evler', 'Tapu Durumu', 'Parsel', 'Kira Getirisi'] not found in axis\""
     ]
    }
   ],
   "source": [
    "df.drop(['Takasa Uygun','Aidat','Kira Getirisi','Ada','Kimden','Konut Şekli','Hayvan Dostu Patili Evler','Tapu Durumu','Parsel',\"Kira Getirisi\",\"İlan Tarihi\"], axis=1, inplace=True)\n",
    "\n",
    "df = df['Oda Sayısı'].str.rsplit('+', 0, expand=True).join(df)\n",
    "df=df.rename(columns = {0:'İlan Oda Sayısı'})\n",
    "df=df.rename(columns = {1:'İlan Salon Sayısı'})\n",
    "del df['Oda Sayısı']\n",
    "df[['Brüt m²']] = df[['Brüt m²']].replace('m²', '', regex=True)"
   ]
  },
  {
   "cell_type": "code",
   "execution_count": 32,
   "id": "bc16cd76",
   "metadata": {},
   "outputs": [
    {
     "data": {
      "text/html": [
       "<div>\n",
       "<style scoped>\n",
       "    .dataframe tbody tr th:only-of-type {\n",
       "        vertical-align: middle;\n",
       "    }\n",
       "\n",
       "    .dataframe tbody tr th {\n",
       "        vertical-align: top;\n",
       "    }\n",
       "\n",
       "    .dataframe thead th {\n",
       "        text-align: right;\n",
       "    }\n",
       "</style>\n",
       "<table border=\"1\" class=\"dataframe\">\n",
       "  <thead>\n",
       "    <tr style=\"text-align: right;\">\n",
       "      <th></th>\n",
       "      <th>İlan Oda Sayısı</th>\n",
       "      <th>İlan Salon Sayısı</th>\n",
       "      <th>İlan Tarihi</th>\n",
       "      <th>İlan no</th>\n",
       "      <th>Net m²</th>\n",
       "      <th>Brüt m²</th>\n",
       "      <th>Banyo Sayısı</th>\n",
       "      <th>Binadaki Kat Sayısı</th>\n",
       "      <th>Isıtma Tipi</th>\n",
       "      <th>Bulunduğu Kat</th>\n",
       "      <th>Görüntülü Ev Gezintisi\\n                                                                ?</th>\n",
       "      <th>Bina Yaşı</th>\n",
       "      <th>Mobilya Durumu</th>\n",
       "      <th>Kullanım Durumu</th>\n",
       "      <th>Yapının Durumu</th>\n",
       "      <th>Krediye Uygun</th>\n",
       "      <th>Fiyat</th>\n",
       "      <th>İl</th>\n",
       "      <th>İlçe</th>\n",
       "      <th>Mahalle</th>\n",
       "      <th>İlan Gün</th>\n",
       "      <th>İlan Ay</th>\n",
       "      <th>İlan Yıl</th>\n",
       "    </tr>\n",
       "  </thead>\n",
       "  <tbody>\n",
       "    <tr>\n",
       "      <th>551</th>\n",
       "      <td>2</td>\n",
       "      <td>1</td>\n",
       "      <td>24 Ağustos 2023</td>\n",
       "      <td>4865047</td>\n",
       "      <td>100</td>\n",
       "      <td>115</td>\n",
       "      <td>1</td>\n",
       "      <td>5</td>\n",
       "      <td>Kombi (Doğalgaz)</td>\n",
       "      <td>3</td>\n",
       "      <td>NaN</td>\n",
       "      <td>6-10 arası</td>\n",
       "      <td>NaN</td>\n",
       "      <td>Mülk Sahibi</td>\n",
       "      <td>İkinci El</td>\n",
       "      <td>Evet</td>\n",
       "      <td>2480000000</td>\n",
       "      <td>İstanbul</td>\n",
       "      <td>Pendik</td>\n",
       "      <td>AhmetYesevi</td>\n",
       "      <td>24</td>\n",
       "      <td>Ağustos</td>\n",
       "      <td>2023</td>\n",
       "    </tr>\n",
       "    <tr>\n",
       "      <th>887</th>\n",
       "      <td>2</td>\n",
       "      <td>1</td>\n",
       "      <td>22 Ağustos 2023</td>\n",
       "      <td>4827531</td>\n",
       "      <td>75</td>\n",
       "      <td>85</td>\n",
       "      <td>1</td>\n",
       "      <td>4</td>\n",
       "      <td>NaN</td>\n",
       "      <td>Bahçe katı</td>\n",
       "      <td>Evet</td>\n",
       "      <td>0</td>\n",
       "      <td>Eşyasız</td>\n",
       "      <td>Boş</td>\n",
       "      <td>Sıfır</td>\n",
       "      <td>Evet</td>\n",
       "      <td>2350000</td>\n",
       "      <td>İstanbul</td>\n",
       "      <td>Avcılar</td>\n",
       "      <td>Gümüşpala</td>\n",
       "      <td>22</td>\n",
       "      <td>Ağustos</td>\n",
       "      <td>2023</td>\n",
       "    </tr>\n",
       "    <tr>\n",
       "      <th>63</th>\n",
       "      <td>2</td>\n",
       "      <td>1</td>\n",
       "      <td>1 Ağustos 2023</td>\n",
       "      <td>4838601</td>\n",
       "      <td>95</td>\n",
       "      <td>105</td>\n",
       "      <td>2</td>\n",
       "      <td>6</td>\n",
       "      <td>Kombi (Doğalgaz)</td>\n",
       "      <td>NaN</td>\n",
       "      <td>Evet</td>\n",
       "      <td>0</td>\n",
       "      <td>NaN</td>\n",
       "      <td>Boş</td>\n",
       "      <td>Sıfır</td>\n",
       "      <td>Evet</td>\n",
       "      <td>6350000</td>\n",
       "      <td>İstanbul</td>\n",
       "      <td>Kağıthane</td>\n",
       "      <td>YahyaKemal</td>\n",
       "      <td>1</td>\n",
       "      <td>Ağustos</td>\n",
       "      <td>2023</td>\n",
       "    </tr>\n",
       "    <tr>\n",
       "      <th>534</th>\n",
       "      <td>2</td>\n",
       "      <td>1</td>\n",
       "      <td>23 Ağustos 2023</td>\n",
       "      <td>4798770</td>\n",
       "      <td>85</td>\n",
       "      <td>100</td>\n",
       "      <td>1</td>\n",
       "      <td>4</td>\n",
       "      <td>Klima</td>\n",
       "      <td>Bahçe katı</td>\n",
       "      <td>Hayır</td>\n",
       "      <td>21-25 arası</td>\n",
       "      <td>Sadece Beyaz Eşya</td>\n",
       "      <td>Boş</td>\n",
       "      <td>NaN</td>\n",
       "      <td>Hayır</td>\n",
       "      <td>1520000</td>\n",
       "      <td>İstanbul</td>\n",
       "      <td>Kartal</td>\n",
       "      <td>Esentepe</td>\n",
       "      <td>23</td>\n",
       "      <td>Ağustos</td>\n",
       "      <td>2023</td>\n",
       "    </tr>\n",
       "    <tr>\n",
       "      <th>772</th>\n",
       "      <td>3</td>\n",
       "      <td>2</td>\n",
       "      <td>23 Ağustos 2023</td>\n",
       "      <td>4764363</td>\n",
       "      <td>160</td>\n",
       "      <td>175</td>\n",
       "      <td>2</td>\n",
       "      <td>4</td>\n",
       "      <td>NaN</td>\n",
       "      <td>4</td>\n",
       "      <td>Hayır</td>\n",
       "      <td>0</td>\n",
       "      <td>Eşyasız</td>\n",
       "      <td>Boş</td>\n",
       "      <td>NaN</td>\n",
       "      <td>Evet</td>\n",
       "      <td>3900000</td>\n",
       "      <td>İstanbul</td>\n",
       "      <td>Beylikdüzü</td>\n",
       "      <td>Kavaklı</td>\n",
       "      <td>23</td>\n",
       "      <td>Ağustos</td>\n",
       "      <td>2023</td>\n",
       "    </tr>\n",
       "    <tr>\n",
       "      <th>722</th>\n",
       "      <td>2</td>\n",
       "      <td>1</td>\n",
       "      <td>23 Ağustos 2023</td>\n",
       "      <td>4726553</td>\n",
       "      <td>110</td>\n",
       "      <td>130</td>\n",
       "      <td>1</td>\n",
       "      <td>9</td>\n",
       "      <td>Kombi (Doğalgaz)</td>\n",
       "      <td>Giriş Katı</td>\n",
       "      <td>Evet</td>\n",
       "      <td>4</td>\n",
       "      <td>Eşyasız</td>\n",
       "      <td>Boş</td>\n",
       "      <td>Sıfır</td>\n",
       "      <td>Evet</td>\n",
       "      <td>2420000</td>\n",
       "      <td>İstanbul</td>\n",
       "      <td>Beylikdüzü</td>\n",
       "      <td>AdnanKahveci</td>\n",
       "      <td>23</td>\n",
       "      <td>Ağustos</td>\n",
       "      <td>2023</td>\n",
       "    </tr>\n",
       "    <tr>\n",
       "      <th>923</th>\n",
       "      <td>1</td>\n",
       "      <td>1</td>\n",
       "      <td>22 Ağustos 2023</td>\n",
       "      <td>4863224</td>\n",
       "      <td>50</td>\n",
       "      <td>60</td>\n",
       "      <td>1</td>\n",
       "      <td>4</td>\n",
       "      <td>Klima</td>\n",
       "      <td>Yüksek Giriş</td>\n",
       "      <td>Hayır</td>\n",
       "      <td>0</td>\n",
       "      <td>Eşyasız</td>\n",
       "      <td>Boş</td>\n",
       "      <td>NaN</td>\n",
       "      <td>Evet</td>\n",
       "      <td>1500000</td>\n",
       "      <td>İstanbul</td>\n",
       "      <td>Esenler</td>\n",
       "      <td>Fatih</td>\n",
       "      <td>22</td>\n",
       "      <td>Ağustos</td>\n",
       "      <td>2023</td>\n",
       "    </tr>\n",
       "  </tbody>\n",
       "</table>\n",
       "</div>"
      ],
      "text/plain": [
       "    İlan Oda Sayısı İlan Salon Sayısı      İlan Tarihi  İlan no Net m²  \\\n",
       "551               2                 1  24 Ağustos 2023  4865047    100   \n",
       "887               2                 1  22 Ağustos 2023  4827531     75   \n",
       "63                2                 1   1 Ağustos 2023  4838601     95   \n",
       "534               2                 1  23 Ağustos 2023  4798770     85   \n",
       "772               3                 2  23 Ağustos 2023  4764363    160   \n",
       "722               2                 1  23 Ağustos 2023  4726553    110   \n",
       "923               1                 1  22 Ağustos 2023  4863224     50   \n",
       "\n",
       "    Brüt m² Banyo Sayısı Binadaki Kat Sayısı       Isıtma Tipi Bulunduğu Kat  \\\n",
       "551     115            1                   5  Kombi (Doğalgaz)             3   \n",
       "887      85            1                   4               NaN    Bahçe katı   \n",
       "63      105            2                   6  Kombi (Doğalgaz)           NaN   \n",
       "534     100            1                   4             Klima    Bahçe katı   \n",
       "772     175            2                   4               NaN             4   \n",
       "722     130            1                   9  Kombi (Doğalgaz)    Giriş Katı   \n",
       "923      60            1                   4             Klima  Yüksek Giriş   \n",
       "\n",
       "    Görüntülü Ev Gezintisi\\n                                                                ?  \\\n",
       "551                                                NaN                                          \n",
       "887                                               Evet                                          \n",
       "63                                                Evet                                          \n",
       "534                                              Hayır                                          \n",
       "772                                              Hayır                                          \n",
       "722                                               Evet                                          \n",
       "923                                              Hayır                                          \n",
       "\n",
       "       Bina Yaşı     Mobilya Durumu Kullanım Durumu Yapının Durumu  \\\n",
       "551   6-10 arası                NaN     Mülk Sahibi      İkinci El   \n",
       "887            0            Eşyasız             Boş          Sıfır   \n",
       "63             0                NaN             Boş          Sıfır   \n",
       "534  21-25 arası  Sadece Beyaz Eşya             Boş            NaN   \n",
       "772            0            Eşyasız             Boş            NaN   \n",
       "722            4            Eşyasız             Boş          Sıfır   \n",
       "923            0            Eşyasız             Boş            NaN   \n",
       "\n",
       "    Krediye Uygun       Fiyat        İl        İlçe       Mahalle İlan Gün  \\\n",
       "551          Evet  2480000000  İstanbul      Pendik   AhmetYesevi       24   \n",
       "887          Evet     2350000  İstanbul     Avcılar     Gümüşpala       22   \n",
       "63           Evet     6350000  İstanbul   Kağıthane    YahyaKemal        1   \n",
       "534         Hayır     1520000  İstanbul      Kartal      Esentepe       23   \n",
       "772          Evet     3900000  İstanbul  Beylikdüzü       Kavaklı       23   \n",
       "722          Evet     2420000  İstanbul  Beylikdüzü  AdnanKahveci       23   \n",
       "923          Evet     1500000  İstanbul     Esenler         Fatih       22   \n",
       "\n",
       "     İlan Ay İlan Yıl  \n",
       "551  Ağustos     2023  \n",
       "887  Ağustos     2023  \n",
       "63   Ağustos     2023  \n",
       "534  Ağustos     2023  \n",
       "772  Ağustos     2023  \n",
       "722  Ağustos     2023  \n",
       "923  Ağustos     2023  "
      ]
     },
     "execution_count": 32,
     "metadata": {},
     "output_type": "execute_result"
    }
   ],
   "source": [
    "df.sample(7)"
   ]
  },
  {
   "cell_type": "code",
   "execution_count": 22,
   "id": "35ae2492",
   "metadata": {},
   "outputs": [],
   "source": [
    "#Veriyi çektikten sonra kaydettik\n",
    "df.to_csv('istanbulzingat.csv', index=False)"
   ]
  },
  {
   "cell_type": "markdown",
   "id": "3f995e8f",
   "metadata": {},
   "source": [
    "# EDA- Exploratary Data Analysis"
   ]
  },
  {
   "cell_type": "code",
   "execution_count": 2,
   "id": "15f1f48d",
   "metadata": {},
   "outputs": [],
   "source": [
    "df=pd.read_csv(\"istanbulzingat.csv\")"
   ]
  },
  {
   "cell_type": "code",
   "execution_count": 5,
   "id": "6e11d448",
   "metadata": {},
   "outputs": [
    {
     "data": {
      "text/html": [
       "<div>\n",
       "<style scoped>\n",
       "    .dataframe tbody tr th:only-of-type {\n",
       "        vertical-align: middle;\n",
       "    }\n",
       "\n",
       "    .dataframe tbody tr th {\n",
       "        vertical-align: top;\n",
       "    }\n",
       "\n",
       "    .dataframe thead th {\n",
       "        text-align: right;\n",
       "    }\n",
       "</style>\n",
       "<table border=\"1\" class=\"dataframe\">\n",
       "  <thead>\n",
       "    <tr style=\"text-align: right;\">\n",
       "      <th></th>\n",
       "      <th>İlan Oda Sayısı</th>\n",
       "      <th>İlan Salon Sayısı</th>\n",
       "      <th>İlan Tarihi</th>\n",
       "      <th>İlan no</th>\n",
       "      <th>Net m²</th>\n",
       "      <th>Brüt m²</th>\n",
       "      <th>Banyo Sayısı</th>\n",
       "      <th>Binadaki Kat Sayısı</th>\n",
       "      <th>Isıtma Tipi</th>\n",
       "      <th>Bulunduğu Kat</th>\n",
       "      <th>Görüntülü Ev Gezintisi\\n                                                                ?</th>\n",
       "      <th>Bina Yaşı</th>\n",
       "      <th>Mobilya Durumu</th>\n",
       "      <th>Kullanım Durumu</th>\n",
       "      <th>Yapının Durumu</th>\n",
       "      <th>Krediye Uygun</th>\n",
       "      <th>Fiyat</th>\n",
       "      <th>İl</th>\n",
       "      <th>İlçe</th>\n",
       "      <th>Mahalle</th>\n",
       "      <th>İlan Gün</th>\n",
       "      <th>İlan Ay</th>\n",
       "      <th>İlan Yıl</th>\n",
       "    </tr>\n",
       "  </thead>\n",
       "  <tbody>\n",
       "    <tr>\n",
       "      <th>654</th>\n",
       "      <td>1.0</td>\n",
       "      <td>1</td>\n",
       "      <td>23 Ağustos 2023</td>\n",
       "      <td>4693687</td>\n",
       "      <td>65</td>\n",
       "      <td>85</td>\n",
       "      <td>1</td>\n",
       "      <td>20 ve üzeri</td>\n",
       "      <td>Klima</td>\n",
       "      <td>5</td>\n",
       "      <td>Hayır</td>\n",
       "      <td>11-15 arası</td>\n",
       "      <td>Sadece Beyaz Eşya</td>\n",
       "      <td>Kiracılı</td>\n",
       "      <td>NaN</td>\n",
       "      <td>Evet</td>\n",
       "      <td>5250000</td>\n",
       "      <td>İstanbul</td>\n",
       "      <td>Sarıyer</td>\n",
       "      <td>Maslak</td>\n",
       "      <td>23</td>\n",
       "      <td>Ağustos</td>\n",
       "      <td>2023</td>\n",
       "    </tr>\n",
       "    <tr>\n",
       "      <th>170</th>\n",
       "      <td>3.0</td>\n",
       "      <td>1</td>\n",
       "      <td>24 Ağustos 2023</td>\n",
       "      <td>4829164</td>\n",
       "      <td>100</td>\n",
       "      <td>125</td>\n",
       "      <td>1</td>\n",
       "      <td>4</td>\n",
       "      <td>Kombi (Doğalgaz)</td>\n",
       "      <td>3</td>\n",
       "      <td>Evet</td>\n",
       "      <td>40 ve üzeri</td>\n",
       "      <td>Eşyasız</td>\n",
       "      <td>Mülk Sahibi</td>\n",
       "      <td>İkinci El</td>\n",
       "      <td>Evet</td>\n",
       "      <td>5950000</td>\n",
       "      <td>İstanbul</td>\n",
       "      <td>Şişli</td>\n",
       "      <td>Merkez</td>\n",
       "      <td>24</td>\n",
       "      <td>Ağustos</td>\n",
       "      <td>2023</td>\n",
       "    </tr>\n",
       "    <tr>\n",
       "      <th>320</th>\n",
       "      <td>2.0</td>\n",
       "      <td>1</td>\n",
       "      <td>24 Ağustos 2023</td>\n",
       "      <td>3567387</td>\n",
       "      <td>90</td>\n",
       "      <td>100</td>\n",
       "      <td>2</td>\n",
       "      <td>4</td>\n",
       "      <td>Kombi (Doğalgaz)</td>\n",
       "      <td>3</td>\n",
       "      <td>NaN</td>\n",
       "      <td>16-20 arası</td>\n",
       "      <td>Eşyasız</td>\n",
       "      <td>NaN</td>\n",
       "      <td>NaN</td>\n",
       "      <td>Evet</td>\n",
       "      <td>3250000</td>\n",
       "      <td>İstanbul</td>\n",
       "      <td>Beyoğlu</td>\n",
       "      <td>KüçükPiyale</td>\n",
       "      <td>24</td>\n",
       "      <td>Ağustos</td>\n",
       "      <td>2023</td>\n",
       "    </tr>\n",
       "  </tbody>\n",
       "</table>\n",
       "</div>"
      ],
      "text/plain": [
       "     İlan Oda Sayısı İlan Salon Sayısı      İlan Tarihi  İlan no  Net m²  \\\n",
       "654              1.0                 1  23 Ağustos 2023  4693687      65   \n",
       "170              3.0                 1  24 Ağustos 2023  4829164     100   \n",
       "320              2.0                 1  24 Ağustos 2023  3567387      90   \n",
       "\n",
       "     Brüt m² Banyo Sayısı Binadaki Kat Sayısı       Isıtma Tipi Bulunduğu Kat  \\\n",
       "654       85            1         20 ve üzeri             Klima             5   \n",
       "170      125            1                   4  Kombi (Doğalgaz)             3   \n",
       "320      100            2                   4  Kombi (Doğalgaz)             3   \n",
       "\n",
       "    Görüntülü Ev Gezintisi\\n                                                                ?  \\\n",
       "654                                              Hayır                                          \n",
       "170                                               Evet                                          \n",
       "320                                                NaN                                          \n",
       "\n",
       "       Bina Yaşı     Mobilya Durumu Kullanım Durumu Yapının Durumu  \\\n",
       "654  11-15 arası  Sadece Beyaz Eşya        Kiracılı            NaN   \n",
       "170  40 ve üzeri            Eşyasız     Mülk Sahibi      İkinci El   \n",
       "320  16-20 arası            Eşyasız             NaN            NaN   \n",
       "\n",
       "    Krediye Uygun    Fiyat        İl     İlçe      Mahalle  İlan Gün  İlan Ay  \\\n",
       "654          Evet  5250000  İstanbul  Sarıyer       Maslak        23  Ağustos   \n",
       "170          Evet  5950000  İstanbul    Şişli       Merkez        24  Ağustos   \n",
       "320          Evet  3250000  İstanbul  Beyoğlu  KüçükPiyale        24  Ağustos   \n",
       "\n",
       "     İlan Yıl  \n",
       "654      2023  \n",
       "170      2023  \n",
       "320      2023  "
      ]
     },
     "execution_count": 5,
     "metadata": {},
     "output_type": "execute_result"
    }
   ],
   "source": [
    "df.sample(3)"
   ]
  },
  {
   "cell_type": "code",
   "execution_count": 7,
   "id": "3368fd70",
   "metadata": {},
   "outputs": [
    {
     "data": {
      "text/plain": [
       "(987, 23)"
      ]
     },
     "execution_count": 7,
     "metadata": {},
     "output_type": "execute_result"
    }
   ],
   "source": [
    "df.shape"
   ]
  },
  {
   "cell_type": "code",
   "execution_count": 8,
   "id": "6fafd95b",
   "metadata": {},
   "outputs": [
    {
     "data": {
      "text/html": [
       "<div>\n",
       "<style scoped>\n",
       "    .dataframe tbody tr th:only-of-type {\n",
       "        vertical-align: middle;\n",
       "    }\n",
       "\n",
       "    .dataframe tbody tr th {\n",
       "        vertical-align: top;\n",
       "    }\n",
       "\n",
       "    .dataframe thead th {\n",
       "        text-align: right;\n",
       "    }\n",
       "</style>\n",
       "<table border=\"1\" class=\"dataframe\">\n",
       "  <thead>\n",
       "    <tr style=\"text-align: right;\">\n",
       "      <th></th>\n",
       "      <th>İlan Oda Sayısı</th>\n",
       "      <th>İlan no</th>\n",
       "      <th>Net m²</th>\n",
       "      <th>Brüt m²</th>\n",
       "      <th>Fiyat</th>\n",
       "      <th>İlan Gün</th>\n",
       "      <th>İlan Yıl</th>\n",
       "    </tr>\n",
       "  </thead>\n",
       "  <tbody>\n",
       "    <tr>\n",
       "      <th>count</th>\n",
       "      <td>973.000000</td>\n",
       "      <td>9.870000e+02</td>\n",
       "      <td>987.000000</td>\n",
       "      <td>987.000000</td>\n",
       "      <td>9.870000e+02</td>\n",
       "      <td>987.000000</td>\n",
       "      <td>987.0</td>\n",
       "    </tr>\n",
       "    <tr>\n",
       "      <th>mean</th>\n",
       "      <td>2.602261</td>\n",
       "      <td>4.738345e+06</td>\n",
       "      <td>113.937183</td>\n",
       "      <td>133.674772</td>\n",
       "      <td>8.706647e+06</td>\n",
       "      <td>21.834853</td>\n",
       "      <td>2023.0</td>\n",
       "    </tr>\n",
       "    <tr>\n",
       "      <th>std</th>\n",
       "      <td>0.972394</td>\n",
       "      <td>1.912747e+05</td>\n",
       "      <td>45.865379</td>\n",
       "      <td>55.526382</td>\n",
       "      <td>7.936374e+07</td>\n",
       "      <td>4.489347</td>\n",
       "      <td>0.0</td>\n",
       "    </tr>\n",
       "    <tr>\n",
       "      <th>min</th>\n",
       "      <td>1.000000</td>\n",
       "      <td>2.132999e+06</td>\n",
       "      <td>30.000000</td>\n",
       "      <td>40.000000</td>\n",
       "      <td>7.200000e+05</td>\n",
       "      <td>1.000000</td>\n",
       "      <td>2023.0</td>\n",
       "    </tr>\n",
       "    <tr>\n",
       "      <th>25%</th>\n",
       "      <td>2.000000</td>\n",
       "      <td>4.694280e+06</td>\n",
       "      <td>85.000000</td>\n",
       "      <td>95.500000</td>\n",
       "      <td>2.100000e+06</td>\n",
       "      <td>22.000000</td>\n",
       "      <td>2023.0</td>\n",
       "    </tr>\n",
       "    <tr>\n",
       "      <th>50%</th>\n",
       "      <td>2.000000</td>\n",
       "      <td>4.797852e+06</td>\n",
       "      <td>105.000000</td>\n",
       "      <td>120.000000</td>\n",
       "      <td>3.290000e+06</td>\n",
       "      <td>23.000000</td>\n",
       "      <td>2023.0</td>\n",
       "    </tr>\n",
       "    <tr>\n",
       "      <th>75%</th>\n",
       "      <td>3.000000</td>\n",
       "      <td>4.842123e+06</td>\n",
       "      <td>130.000000</td>\n",
       "      <td>155.000000</td>\n",
       "      <td>6.375000e+06</td>\n",
       "      <td>24.000000</td>\n",
       "      <td>2023.0</td>\n",
       "    </tr>\n",
       "    <tr>\n",
       "      <th>max</th>\n",
       "      <td>8.000000</td>\n",
       "      <td>4.865636e+06</td>\n",
       "      <td>377.000000</td>\n",
       "      <td>475.000000</td>\n",
       "      <td>2.480000e+09</td>\n",
       "      <td>31.000000</td>\n",
       "      <td>2023.0</td>\n",
       "    </tr>\n",
       "  </tbody>\n",
       "</table>\n",
       "</div>"
      ],
      "text/plain": [
       "       İlan Oda Sayısı       İlan no      Net m²     Brüt m²         Fiyat  \\\n",
       "count       973.000000  9.870000e+02  987.000000  987.000000  9.870000e+02   \n",
       "mean          2.602261  4.738345e+06  113.937183  133.674772  8.706647e+06   \n",
       "std           0.972394  1.912747e+05   45.865379   55.526382  7.936374e+07   \n",
       "min           1.000000  2.132999e+06   30.000000   40.000000  7.200000e+05   \n",
       "25%           2.000000  4.694280e+06   85.000000   95.500000  2.100000e+06   \n",
       "50%           2.000000  4.797852e+06  105.000000  120.000000  3.290000e+06   \n",
       "75%           3.000000  4.842123e+06  130.000000  155.000000  6.375000e+06   \n",
       "max           8.000000  4.865636e+06  377.000000  475.000000  2.480000e+09   \n",
       "\n",
       "         İlan Gün  İlan Yıl  \n",
       "count  987.000000     987.0  \n",
       "mean    21.834853    2023.0  \n",
       "std      4.489347       0.0  \n",
       "min      1.000000    2023.0  \n",
       "25%     22.000000    2023.0  \n",
       "50%     23.000000    2023.0  \n",
       "75%     24.000000    2023.0  \n",
       "max     31.000000    2023.0  "
      ]
     },
     "execution_count": 8,
     "metadata": {},
     "output_type": "execute_result"
    }
   ],
   "source": [
    "df.describe() #sayısal veriler üzerinden istatiksel değerler"
   ]
  },
  {
   "cell_type": "code",
   "execution_count": 9,
   "id": "e1b577c4",
   "metadata": {},
   "outputs": [
    {
     "data": {
      "text/html": [
       "<div>\n",
       "<style scoped>\n",
       "    .dataframe tbody tr th:only-of-type {\n",
       "        vertical-align: middle;\n",
       "    }\n",
       "\n",
       "    .dataframe tbody tr th {\n",
       "        vertical-align: top;\n",
       "    }\n",
       "\n",
       "    .dataframe thead th {\n",
       "        text-align: right;\n",
       "    }\n",
       "</style>\n",
       "<table border=\"1\" class=\"dataframe\">\n",
       "  <thead>\n",
       "    <tr style=\"text-align: right;\">\n",
       "      <th></th>\n",
       "      <th>İlan Oda Sayısı</th>\n",
       "      <th>İlan no</th>\n",
       "      <th>Net m²</th>\n",
       "      <th>Brüt m²</th>\n",
       "      <th>Fiyat</th>\n",
       "      <th>İlan Gün</th>\n",
       "      <th>İlan Yıl</th>\n",
       "    </tr>\n",
       "  </thead>\n",
       "  <tbody>\n",
       "    <tr>\n",
       "      <th>İlan Oda Sayısı</th>\n",
       "      <td>1.000000</td>\n",
       "      <td>-0.059256</td>\n",
       "      <td>0.807072</td>\n",
       "      <td>0.796202</td>\n",
       "      <td>0.027899</td>\n",
       "      <td>-0.071586</td>\n",
       "      <td>NaN</td>\n",
       "    </tr>\n",
       "    <tr>\n",
       "      <th>İlan no</th>\n",
       "      <td>-0.059256</td>\n",
       "      <td>1.000000</td>\n",
       "      <td>-0.061199</td>\n",
       "      <td>-0.061060</td>\n",
       "      <td>0.015741</td>\n",
       "      <td>-0.046794</td>\n",
       "      <td>NaN</td>\n",
       "    </tr>\n",
       "    <tr>\n",
       "      <th>Net m²</th>\n",
       "      <td>0.807072</td>\n",
       "      <td>-0.061199</td>\n",
       "      <td>1.000000</td>\n",
       "      <td>0.961631</td>\n",
       "      <td>0.058305</td>\n",
       "      <td>-0.015866</td>\n",
       "      <td>NaN</td>\n",
       "    </tr>\n",
       "    <tr>\n",
       "      <th>Brüt m²</th>\n",
       "      <td>0.796202</td>\n",
       "      <td>-0.061060</td>\n",
       "      <td>0.961631</td>\n",
       "      <td>1.000000</td>\n",
       "      <td>0.064503</td>\n",
       "      <td>-0.029989</td>\n",
       "      <td>NaN</td>\n",
       "    </tr>\n",
       "    <tr>\n",
       "      <th>Fiyat</th>\n",
       "      <td>0.027899</td>\n",
       "      <td>0.015741</td>\n",
       "      <td>0.058305</td>\n",
       "      <td>0.064503</td>\n",
       "      <td>1.000000</td>\n",
       "      <td>0.011867</td>\n",
       "      <td>NaN</td>\n",
       "    </tr>\n",
       "    <tr>\n",
       "      <th>İlan Gün</th>\n",
       "      <td>-0.071586</td>\n",
       "      <td>-0.046794</td>\n",
       "      <td>-0.015866</td>\n",
       "      <td>-0.029989</td>\n",
       "      <td>0.011867</td>\n",
       "      <td>1.000000</td>\n",
       "      <td>NaN</td>\n",
       "    </tr>\n",
       "    <tr>\n",
       "      <th>İlan Yıl</th>\n",
       "      <td>NaN</td>\n",
       "      <td>NaN</td>\n",
       "      <td>NaN</td>\n",
       "      <td>NaN</td>\n",
       "      <td>NaN</td>\n",
       "      <td>NaN</td>\n",
       "      <td>NaN</td>\n",
       "    </tr>\n",
       "  </tbody>\n",
       "</table>\n",
       "</div>"
      ],
      "text/plain": [
       "                 İlan Oda Sayısı   İlan no    Net m²   Brüt m²     Fiyat  \\\n",
       "İlan Oda Sayısı         1.000000 -0.059256  0.807072  0.796202  0.027899   \n",
       "İlan no                -0.059256  1.000000 -0.061199 -0.061060  0.015741   \n",
       "Net m²                  0.807072 -0.061199  1.000000  0.961631  0.058305   \n",
       "Brüt m²                 0.796202 -0.061060  0.961631  1.000000  0.064503   \n",
       "Fiyat                   0.027899  0.015741  0.058305  0.064503  1.000000   \n",
       "İlan Gün               -0.071586 -0.046794 -0.015866 -0.029989  0.011867   \n",
       "İlan Yıl                     NaN       NaN       NaN       NaN       NaN   \n",
       "\n",
       "                 İlan Gün  İlan Yıl  \n",
       "İlan Oda Sayısı -0.071586       NaN  \n",
       "İlan no         -0.046794       NaN  \n",
       "Net m²          -0.015866       NaN  \n",
       "Brüt m²         -0.029989       NaN  \n",
       "Fiyat            0.011867       NaN  \n",
       "İlan Gün         1.000000       NaN  \n",
       "İlan Yıl              NaN       NaN  "
      ]
     },
     "execution_count": 9,
     "metadata": {},
     "output_type": "execute_result"
    }
   ],
   "source": [
    "df.corr()"
   ]
  },
  {
   "cell_type": "code",
   "execution_count": 10,
   "id": "6a8bb0b1",
   "metadata": {},
   "outputs": [
    {
     "name": "stdout",
     "output_type": "stream",
     "text": [
      "<class 'pandas.core.frame.DataFrame'>\n",
      "RangeIndex: 987 entries, 0 to 986\n",
      "Data columns (total 23 columns):\n",
      " #   Column                                                                                    Non-Null Count  Dtype  \n",
      "---  ------                                                                                    --------------  -----  \n",
      " 0   İlan Oda Sayısı                                                                           973 non-null    float64\n",
      " 1   İlan Salon Sayısı                                                                         973 non-null    object \n",
      " 2   İlan Tarihi                                                                               987 non-null    object \n",
      " 3   İlan no                                                                                   987 non-null    int64  \n",
      " 4   Net m²                                                                                    987 non-null    int64  \n",
      " 5   Brüt m²                                                                                   987 non-null    int64  \n",
      " 6   Banyo Sayısı                                                                              973 non-null    object \n",
      " 7   Binadaki Kat Sayısı                                                                       968 non-null    object \n",
      " 8   Isıtma Tipi                                                                               787 non-null    object \n",
      " 9   Bulunduğu Kat                                                                             939 non-null    object \n",
      " 10  Görüntülü Ev Gezintisi\n",
      "                                                                ?  820 non-null    object \n",
      " 11  Bina Yaşı                                                                                 967 non-null    object \n",
      " 12  Mobilya Durumu                                                                            891 non-null    object \n",
      " 13  Kullanım Durumu                                                                           932 non-null    object \n",
      " 14  Yapının Durumu                                                                            551 non-null    object \n",
      " 15  Krediye Uygun                                                                             987 non-null    object \n",
      " 16  Fiyat                                                                                     987 non-null    int64  \n",
      " 17  İl                                                                                        987 non-null    object \n",
      " 18  İlçe                                                                                      987 non-null    object \n",
      " 19  Mahalle                                                                                   987 non-null    object \n",
      " 20  İlan Gün                                                                                  987 non-null    int64  \n",
      " 21  İlan Ay                                                                                   987 non-null    object \n",
      " 22  İlan Yıl                                                                                  987 non-null    int64  \n",
      "dtypes: float64(1), int64(6), object(16)\n",
      "memory usage: 177.5+ KB\n"
     ]
    }
   ],
   "source": [
    "df.info()"
   ]
  },
  {
   "cell_type": "code",
   "execution_count": 18,
   "id": "c2f60fba",
   "metadata": {},
   "outputs": [
    {
     "data": {
      "text/plain": [
       "Beylikdüzü       131\n",
       "Esenyurt         120\n",
       "Kadıköy           56\n",
       "Sarıyer           54\n",
       "Sancaktepe        53\n",
       "Çekmeköy          44\n",
       "Esenler           35\n",
       "Avcılar           35\n",
       "Kartal            33\n",
       "Eyüpsultan        32\n",
       "Maltepe           31\n",
       "Pendik            28\n",
       "Sultanbeyli       24\n",
       "Kağıthane         24\n",
       "Beşiktaş          23\n",
       "Üsküdar           21\n",
       "Küçükçekmece      21\n",
       "Başakşehir        20\n",
       "Şişli             20\n",
       "Gaziosmanpaşa     20\n",
       "Ataşehir          18\n",
       "Büyükçekmece      17\n",
       "Fatih             16\n",
       "Bağcılar          16\n",
       "Bahçelievler      13\n",
       "Ümraniye          13\n",
       "Zeytinburnu       12\n",
       "Tuzla             10\n",
       "Bakırköy           9\n",
       "Sultangazi         8\n",
       "Bayrampaşa         7\n",
       "Güngören           7\n",
       "Beyoğlu            7\n",
       "Silivri            5\n",
       "Arnavutköy         3\n",
       "Beykoz             1\n",
       "Name: İlçe, dtype: int64"
      ]
     },
     "execution_count": 18,
     "metadata": {},
     "output_type": "execute_result"
    }
   ],
   "source": [
    "df.İlçe.value_counts()"
   ]
  },
  {
   "cell_type": "markdown",
   "id": "208c6fae",
   "metadata": {},
   "source": [
    "# Veri Görselleştirmesi"
   ]
  },
  {
   "cell_type": "code",
   "execution_count": 30,
   "id": "18248534",
   "metadata": {},
   "outputs": [
    {
     "data": {
      "text/plain": [
       "Text(0, 0.5, 'İlçe')"
      ]
     },
     "execution_count": 30,
     "metadata": {},
     "output_type": "execute_result"
    },
    {
     "data": {
      "image/png": "[encoded data removed]",
      "text/plain": [
       "<Figure size 600x300 with 1 Axes>"
      ]
     },
     "metadata": {},
     "output_type": "display_data"
    }
   ],
   "source": [
    "districts = df[\"İlçe\"].value_counts()[0:10].sort_values()\n",
    "plt.figure(figsize=(6,3))\n",
    "plot = sns.barplot(x = districts.values, y = districts.index, palette=\"Greens\")\n",
    "plt.title(\"En Çok İlan Açılan İlçeler\")\n",
    "plt.xlabel(\"İlan Sayısı\")\n",
    "plt.ylabel(\"İlçe\")"
   ]
  },
  {
   "cell_type": "code",
   "execution_count": 29,
   "id": "ad8538eb",
   "metadata": {},
   "outputs": [
    {
     "data": {
      "text/plain": [
       "Text(0.5, 1.0, 'Apartmanların Yaş Durumu')"
      ]
     },
     "execution_count": 29,
     "metadata": {},
     "output_type": "execute_result"
    },
    {
     "data": {
      "image/png": "[encoded data removed]",
      "text/plain": [
       "<Figure size 500x300 with 1 Axes>"
      ]
     },
     "metadata": {},
     "output_type": "display_data"
    }
   ],
   "source": [
    "apt_age = df[\"Bina Yaşı\"].value_counts().sort_values(ascending=True)\n",
    "plt.figure(figsize = (5,3))\n",
    "sns.barplot(x = apt_age.values, y = apt_age.index, palette=\"YlOrBr\", orient=\"h\")\n",
    "plt.xlabel(\"Apartman Sayısı\")\n",
    "plt.ylabel(\"Apartman Yaşı\")\n",
    "plt.title(\"Apartmanların Yaş Durumu\")"
   ]
  },
  {
   "cell_type": "code",
   "execution_count": 23,
   "id": "38073097",
   "metadata": {},
   "outputs": [
    {
     "data": {
      "image/png": "[encoded data removed]",
      "text/plain": [
       "<Figure size 1500x700 with 1 Axes>"
      ]
     },
     "metadata": {},
     "output_type": "display_data"
    }
   ],
   "source": [
    "fig = plt.figure(figsize=(15,7))\n",
    "df[\"Yapının Durumu\"].value_counts().plot(kind = 'pie',autopct='%.1f%%')\n",
    "plt.ylabel(\"\", fontsize = 10)\n",
    "plt.title(\"Yapının Durumu\");"
   ]
  },
  {
   "cell_type": "markdown",
   "id": "4712a70f",
   "metadata": {},
   "source": [
    "# Veri Analizi ve Düzenleme"
   ]
  },
  {
   "cell_type": "code",
   "execution_count": 12,
   "id": "9297f929",
   "metadata": {},
   "outputs": [],
   "source": [
    "df.drop([\"İlan Tarihi\", \"İl\"], axis=1, inplace=True)"
   ]
  },
  {
   "cell_type": "code",
   "execution_count": 41,
   "id": "8a708211",
   "metadata": {},
   "outputs": [
    {
     "data": {
      "text/plain": [
       "Ağustos    971\n",
       "Temmuz      16\n",
       "Name: İlan Ay, dtype: int64"
      ]
     },
     "execution_count": 41,
     "metadata": {},
     "output_type": "execute_result"
    }
   ],
   "source": [
    "df[\"İlan Ay\"].value_counts()"
   ]
  },
  {
   "cell_type": "code",
   "execution_count": 42,
   "id": "62897fda",
   "metadata": {},
   "outputs": [],
   "source": [
    "df[\"İlan Ay\"].replace({'Temmuz':'7', \"Ağustos\":\"8\"}, regex=True, inplace=True)"
   ]
  },
  {
   "cell_type": "code",
   "execution_count": 50,
   "id": "75df21ea",
   "metadata": {},
   "outputs": [
    {
     "data": {
      "text/plain": [
       "0    708\n",
       "1    279\n",
       "Name: Mobilya Durumu, dtype: int64"
      ]
     },
     "execution_count": 50,
     "metadata": {},
     "output_type": "execute_result"
    }
   ],
   "source": [
    "df[\"Mobilya Durumu\"].value_counts()"
   ]
  },
  {
   "cell_type": "code",
   "execution_count": 48,
   "id": "07477424",
   "metadata": {},
   "outputs": [],
   "source": [
    "df['Mobilya Durumu']=np.where(df['Mobilya Durumu']=='Eşyasız',0,1)"
   ]
  },
  {
   "cell_type": "code",
   "execution_count": 51,
   "id": "84d6fe36",
   "metadata": {},
   "outputs": [],
   "source": [
    "df['Fiyat'].replace({'\\n':'',',':'',' TL':''},regex=True,inplace=True)"
   ]
  },
  {
   "cell_type": "code",
   "execution_count": 68,
   "id": "8dba6eb2",
   "metadata": {},
   "outputs": [
    {
     "data": {
      "text/plain": [
       "Kombi (Doğalgaz)              470\n",
       "4                             139\n",
       "3                             131\n",
       "2                              23\n",
       "Kalorifer (Doğalgaz)           15\n",
       "Soba (Doğalgaz)                 4\n",
       "0                               3\n",
       "Combi Boiler (Natural Gas)      1\n",
       "Kombi (Elektrikli)              1\n",
       "Name: Isıtma Tipi, dtype: int64"
      ]
     },
     "execution_count": 68,
     "metadata": {},
     "output_type": "execute_result"
    }
   ],
   "source": [
    "df['Isıtma Tipi'].value_counts()"
   ]
  },
  {
   "cell_type": "code",
   "execution_count": 67,
   "id": "65624d41",
   "metadata": {},
   "outputs": [],
   "source": [
    "df['Isıtma Tipi'].replace({\"Güneş Enerjisi\":1,\"Kombi (Elektrikli)\":1, \"Combi Boiler (Natural Gas)\":0,\"Fancoil\":0,'Soba (Doğalgaz)':3,'Kalorifer (Doğalgaz)':4,\"Yerden Isıtma\":4,'Klima':5,'Merkezi Sistem':6,'Merkezi Sistem (Isı Payı Ölçer)':6,'Kombi (Doğalgaz)':7},regex=True,inplace=True)"
   ]
  },
  {
   "cell_type": "code",
   "execution_count": 24,
   "id": "701e6cb0",
   "metadata": {},
   "outputs": [
    {
     "name": "stdout",
     "output_type": "stream",
     "text": [
      "<class 'pandas.core.frame.DataFrame'>\n",
      "RangeIndex: 987 entries, 0 to 986\n",
      "Data columns (total 21 columns):\n",
      " #   Column                                                                                    Non-Null Count  Dtype  \n",
      "---  ------                                                                                    --------------  -----  \n",
      " 0   İlan Oda Sayısı                                                                           973 non-null    float64\n",
      " 1   İlan Salon Sayısı                                                                         973 non-null    object \n",
      " 2   İlan no                                                                                   987 non-null    int64  \n",
      " 3   Net m²                                                                                    987 non-null    int64  \n",
      " 4   Brüt m²                                                                                   987 non-null    int64  \n",
      " 5   Banyo Sayısı                                                                              973 non-null    object \n",
      " 6   Binadaki Kat Sayısı                                                                       968 non-null    object \n",
      " 7   Isıtma Tipi                                                                               787 non-null    object \n",
      " 8   Bulunduğu Kat                                                                             939 non-null    object \n",
      " 9   Görüntülü Ev Gezintisi\n",
      "                                                                ?  820 non-null    object \n",
      " 10  Bina Yaşı                                                                                 967 non-null    object \n",
      " 11  Mobilya Durumu                                                                            891 non-null    object \n",
      " 12  Kullanım Durumu                                                                           932 non-null    object \n",
      " 13  Yapının Durumu                                                                            551 non-null    object \n",
      " 14  Krediye Uygun                                                                             987 non-null    object \n",
      " 15  Fiyat                                                                                     987 non-null    int64  \n",
      " 16  İlçe                                                                                      987 non-null    object \n",
      " 17  Mahalle                                                                                   987 non-null    object \n",
      " 18  İlan Gün                                                                                  987 non-null    int64  \n",
      " 19  İlan Ay                                                                                   987 non-null    object \n",
      " 20  İlan Yıl                                                                                  987 non-null    int64  \n",
      "dtypes: float64(1), int64(6), object(14)\n",
      "memory usage: 162.1+ KB\n"
     ]
    }
   ],
   "source": [
    "df.info()"
   ]
  },
  {
   "cell_type": "code",
   "execution_count": 35,
   "id": "41f2969b",
   "metadata": {},
   "outputs": [],
   "source": [
    "old_cols = df.columns.values \n",
    "new_cols = ['İlan no','İlan Oda Sayısı', 'İlan Salon Sayısı',\n",
    "       'Net m²', 'Brüt m²', 'Banyo Sayısı', 'Binadaki Kat Sayısı',\n",
    "       'Isıtma Tipi', 'Bulunduğu Kat', 'Krediye Uygun',\"Bina Yaşı\",'İlçe','Fiyat',\"Yapının Durumu\",\"Kullanım Durumu\",\"Mobilya Durumu\"]\n",
    "df = df.reindex(columns=new_cols)"
   ]
  },
  {
   "cell_type": "code",
   "execution_count": 88,
   "id": "625d7277",
   "metadata": {},
   "outputs": [
    {
     "name": "stdout",
     "output_type": "stream",
     "text": [
      "<class 'pandas.core.frame.DataFrame'>\n",
      "RangeIndex: 987 entries, 0 to 986\n",
      "Data columns (total 16 columns):\n",
      " #   Column               Non-Null Count  Dtype  \n",
      "---  ------               --------------  -----  \n",
      " 0   İlan no              987 non-null    int64  \n",
      " 1   İlan Oda Sayısı      973 non-null    float64\n",
      " 2   İlan Salon Sayısı    973 non-null    object \n",
      " 3   Net m²               987 non-null    int64  \n",
      " 4   Brüt m²              987 non-null    int64  \n",
      " 5   Banyo Sayısı         973 non-null    object \n",
      " 6   Binadaki Kat Sayısı  968 non-null    object \n",
      " 7   Isıtma Tipi          987 non-null    object \n",
      " 8   Bulunduğu Kat        987 non-null    object \n",
      " 9   Krediye Uygun        987 non-null    object \n",
      " 10  Bina Yaşı            967 non-null    object \n",
      " 11  İlçe                 987 non-null    object \n",
      " 12  Fiyat                987 non-null    int64  \n",
      " 13  Yapının Durumu       551 non-null    object \n",
      " 14  Kullanım Durumu      932 non-null    object \n",
      " 15  Mobilya Durumu       891 non-null    object \n",
      "dtypes: float64(1), int64(4), object(11)\n",
      "memory usage: 123.5+ KB\n"
     ]
    }
   ],
   "source": [
    "df.info()"
   ]
  },
  {
   "cell_type": "code",
   "execution_count": 86,
   "id": "5c5c191c",
   "metadata": {},
   "outputs": [
    {
     "data": {
      "text/plain": [
       "0    709\n",
       "1    182\n",
       "Name: Mobilya Durumu, dtype: int64"
      ]
     },
     "execution_count": 86,
     "metadata": {},
     "output_type": "execute_result"
    }
   ],
   "source": [
    "df[\"Mobilya Durumu\"].value_counts()"
   ]
  },
  {
   "cell_type": "code",
   "execution_count": 85,
   "id": "0737a191",
   "metadata": {},
   "outputs": [],
   "source": [
    "df.loc[df[\"Mobilya Durumu\"] == \"Eşyasız\", \"Mobilya Durumu\"] = \"0\"\n",
    "df.loc[df[\"Mobilya Durumu\"] == \"Sadece Beyaz Eşya\", \"Mobilya Durumu\"] = \"1\"\n",
    "df.loc[df[\"Mobilya Durumu\"] == \"Eşyalı (Mobilyalı)\", \"Mobilya Durumu\"] = \"1\"\n",
    "df.loc[df[\"Mobilya Durumu\"] == \"Sadece Mutfak\", \"Mobilya Durumu\"] = \"1\"\n",
    "df.loc[df[\"Mobilya Durumu\"] == \"Unfurnished\", \"Mobilya Durumu\"] = \"0\""
   ]
  },
  {
   "cell_type": "code",
   "execution_count": 82,
   "id": "49b97005",
   "metadata": {},
   "outputs": [],
   "source": [
    "df.loc[df[\"Kullanım Durumu\"] == \"Boş\", \"Kullanım Durumu\"] = \"0\"\n",
    "df.loc[df[\"Kullanım Durumu\"] == \"Kiracılı\", \"Kullanım Durumu\"] = \"1\"\n",
    "df.loc[df[\"Kullanım Durumu\"] == \"Mülk Sahibi\", \"Kullanım Durumu\"] = \"1\"\n",
    "df.loc[df[\"Kullanım Durumu\"] == \"Occupied By Tenant\", \"Kullanım Durumu\"] = \"1\""
   ]
  },
  {
   "cell_type": "code",
   "execution_count": 79,
   "id": "1744f438",
   "metadata": {},
   "outputs": [],
   "source": [
    "df.loc[df[\"Yapının Durumu\"] == \"İkinci El\", \"Yapının Durumu\"] = \"1\"\n",
    "df.loc[df[\"Yapının Durumu\"] == \"Sıfır\", \"Yapının Durumu\"] = \"0\"\n",
    "df.loc[df[\"Yapının Durumu\"] == \"Yapım Aşamasında\", \"Yapının Durumu\"] = \"0\"\n",
    "df.loc[df[\"Yapının Durumu\"] == \"Second Hand\", \"Yapının Durumu\"] = \"1\""
   ]
  },
  {
   "cell_type": "code",
   "execution_count": 115,
   "id": "22a973f0",
   "metadata": {},
   "outputs": [],
   "source": [
    "df.loc[df[\"Bina Yaşı\"] == \"6-10\", \"Bina Yaşı\"] = \"8\"\n",
    "df.loc[df[\"Bina Yaşı\"] == \"11-15\", \"Bina Yaşı\"] = \"13\"\n",
    "df.loc[df[\"Bina Yaşı\"] == \"21-25\", \"Bina Yaşı\"] = \"23\"\n",
    "df.loc[df[\"Bina Yaşı\"] == \"31-35\", \"Bina Yaşı\"] = \"33\"\n",
    "df.loc[df[\"Bina Yaşı\"] == \"26-30\", \"Bina Yaşı\"] = \"28\"\n",
    "df.loc[df[\"Bina Yaşı\"] == \"16-20\", \"Bina Yaşı\"] = \"18\"\n",
    "df.loc[df[\"Bina Yaşı\"] == \"40\", \"Bina Yaşı\"] = \"40\"\n",
    "df.loc[df[\"Bina Yaşı\"] == \"36-40\", \"Bina Yaşı\"] = \"36\"\n",
    "df.loc[df[\"Bina Yaşı\"] == \"6-10\", \"Bina Yaşı\"] = \"8\"\n",
    "\n",
    "\n",
    "df[\"Bulunduğu Kat\"] = df[\"Bulunduğu Kat\"].astype(str)"
   ]
  },
  {
   "cell_type": "code",
   "execution_count": 71,
   "id": "0be1b736",
   "metadata": {},
   "outputs": [],
   "source": [
    "df.loc[df[\"Krediye Uygun\"] == \"Evet\" , \"Krediye Uygun\"] = \"1\"\n",
    "df.loc[df[\"Krediye Uygun\"] == \"Yes\" , \"Krediye Uygun\"] = \"1\"\n",
    "df.loc[df[\"Krediye Uygun\"] == \"Hayır\" , \"Krediye Uygun\"] = \"0\"\n",
    "df.loc[df[\"Krediye Uygun\"] == \"No\" , \"Krediye Uygun\"] = \"0\""
   ]
  },
  {
   "cell_type": "code",
   "execution_count": 110,
   "id": "e79268a4",
   "metadata": {},
   "outputs": [],
   "source": [
    "df.loc[df[\"Bulunduğu Kat\"] == \"Bahçe katı\", \"Bulunduğu Kat\"] = \"0\"\n",
    "df.loc[df[\"Bulunduğu Kat\"] == \"Giriş Katı\", \"Bulunduğu Kat\"] = \"0\"\n",
    "df.loc[df[\"Bulunduğu Kat\"] == \"Yüksek Giriş\", \"Bulunduğu Kat\"] = \"0\"\n",
    "\n",
    "df.loc[df[\"Bulunduğu Kat\"] == \"En Üst Kat\", \"Bulunduğu Kat\"] = \"7\"\n",
    "df.loc[df[\"Bulunduğu Kat\"] == \"20-29\", \"Bulunduğu Kat\"] = \"20\"\n",
    "df.loc[df[\"Bulunduğu Kat\"] == \"Çatı Katı\", \"Bulunduğu Kat\"] = \"7\"\n",
    "df.loc[df[\"Bulunduğu Kat\"] == \"Kot 1\", \"Bulunduğu Kat\"] = \"-1\"\n",
    "df.loc[df[\"Bulunduğu Kat\"] == \"Kot 2\", \"Bulunduğu Kat\"] = \"-2\"\n",
    "df.loc[df[\"Bulunduğu Kat\"] == \"Kot 3\", \"Bulunduğu Kat\"] = \"-3\"\n",
    "df.loc[df[\"Bulunduğu Kat\"] == \"Kot 4\", \"Bulunduğu Kat\"] = \"-4\"\n",
    "df.loc[df[\"Bulunduğu Kat\"] == \"Zemin Kat\", \"Bulunduğu Kat\"] = \"0\"\n",
    "df.loc[df[\"Bulunduğu Kat\"] == \"Müstakil\", \"Bulunduğu Kat\"] = \"1\"\n",
    "df.loc[df[\"Bulunduğu Kat\"] == \"Teras Kat\", \"Bulunduğu Kat\"] = \"7\"\n",
    "df.loc[df[\"Bulunduğu Kat\"] == \"Bodrum Kat\", \"Bulunduğu Kat\"] = \"-1\"\n",
    "df.loc[df[\"Bulunduğu Kat\"] == \"nan\", \"Bulunduğu Kat\"] = \"0\"\n",
    "\n",
    "df[\"Bulunduğu Kat\"] = df[\"Bulunduğu Kat\"].astype(str)"
   ]
  },
  {
   "cell_type": "code",
   "execution_count": 60,
   "id": "9f4c008e",
   "metadata": {},
   "outputs": [],
   "source": [
    "df[\"Isıtma Tipi\"] = df[\"Isıtma Tipi\"].fillna('0')\n",
    "df.loc[df[\"Isıtma Tipi\"] == \"Güneş Enerjisi\" , \"Isıtma Tipi\"] = \"1\"\n",
    "df.loc[df[\"Isıtma Tipi\"] == \"Fancoil\" , \"Isıtma Tipi\"] = \"1\"\n",
    "df.loc[df[\"Isıtma Tipi\"] == \"Soba (Doğalgaz)\" , \"Isıtma Tipi\"] = \"1\"\n",
    "df.loc[df[\"Isıtma Tipi\"] == \"Kombi (Elektrikli)\" , \"Isıtma Tipi\"] = \"1\"\n",
    "df.loc[df[\"Isıtma Tipi\"] == \"Combi Boiler (Natural Gas)\" , \"Isıtma Tipi\"] = \"1\"\n",
    "\n",
    "df.loc[df[\"Isıtma Tipi\"] == \"Kalorifer (Doğalgaz)\" , \"Isıtma Tipi\"] = \"2\"\n",
    "df.loc[df[\"Isıtma Tipi\"] == \"Yerden Isıtma\" , \"Isıtma Tipi\"] = \"2\"\n",
    "df.loc[df[\"Isıtma Tipi\"] == \"Merkezi Sistem\" , \"Isıtma Tipi\"] = \"3\"\n",
    "df.loc[df[\"Isıtma Tipi\"] == \"Merkezi Sistem (Isı Payı Ölçer)\" , \"Isıtma Tipi\"] = \"3\"\n",
    "df.loc[df[\"Isıtma Tipi\"] == \"Klima\" , \"Isıtma Tipi\"] = \"2\"\n",
    "df.loc[df[\"Isıtma Tipi\"] == \"Kombi (Doğalgaz)\" , \"Isıtma Tipi\"] = \"3\""
   ]
  },
  {
   "cell_type": "code",
   "execution_count": 44,
   "id": "80e4ab71",
   "metadata": {
    "scrolled": true
   },
   "outputs": [],
   "source": [
    "df['İlan Salon Sayısı'] = df['İlan Salon Sayısı'].replace(\"0 (Stüdyo)\", 0)"
   ]
  },
  {
   "cell_type": "code",
   "execution_count": 48,
   "id": "59eefe4a",
   "metadata": {},
   "outputs": [],
   "source": [
    "df[\"Banyo Sayısı\"] = df[\"Banyo Sayısı\"].replace(\"6 ve üzeri\", 6)"
   ]
  },
  {
   "cell_type": "code",
   "execution_count": 106,
   "id": "3df8e538",
   "metadata": {},
   "outputs": [],
   "source": [
    "df.loc[df[\"Binadaki Kat Sayısı\"] == \"10-20\", \"Binadaki Kat Sayısı\"] = \"15\"\n",
    "df.loc[df[\"Binadaki Kat Sayısı\"] == \"20-29\", \"Binadaki Kat Sayısı\"] = \"25\""
   ]
  },
  {
   "cell_type": "code",
   "execution_count": 112,
   "id": "985821e9",
   "metadata": {},
   "outputs": [
    {
     "name": "stdout",
     "output_type": "stream",
     "text": [
      "<class 'pandas.core.frame.DataFrame'>\n",
      "RangeIndex: 987 entries, 0 to 986\n",
      "Data columns (total 16 columns):\n",
      " #   Column               Non-Null Count  Dtype  \n",
      "---  ------               --------------  -----  \n",
      " 0   İlan no              987 non-null    int64  \n",
      " 1   İlan Oda Sayısı      987 non-null    float64\n",
      " 2   İlan Salon Sayısı    987 non-null    int32  \n",
      " 3   Net m²               987 non-null    int64  \n",
      " 4   Brüt m²              987 non-null    int64  \n",
      " 5   Banyo Sayısı         987 non-null    int32  \n",
      " 6   Binadaki Kat Sayısı  987 non-null    int32  \n",
      " 7   Isıtma Tipi          987 non-null    int32  \n",
      " 8   Bulunduğu Kat        987 non-null    int32  \n",
      " 9   Krediye Uygun        987 non-null    int32  \n",
      " 10  Bina Yaşı            987 non-null    object \n",
      " 11  İlçe                 987 non-null    object \n",
      " 12  Fiyat                987 non-null    int64  \n",
      " 13  Yapının Durumu       987 non-null    object \n",
      " 14  Kullanım Durumu      987 non-null    object \n",
      " 15  Mobilya Durumu       987 non-null    object \n",
      "dtypes: float64(1), int32(6), int64(4), object(5)\n",
      "memory usage: 100.4+ KB\n"
     ]
    }
   ],
   "source": [
    "df.info()"
   ]
  },
  {
   "cell_type": "code",
   "execution_count": 94,
   "id": "35505b5d",
   "metadata": {},
   "outputs": [],
   "source": [
    "df['Bina Yaşı'].fillna(0, inplace=True)\n",
    "df['Yapının Durumu'].fillna(0, inplace=True)\n",
    "df['Kullanım Durumu'].fillna(0, inplace=True)\n",
    "df['Mobilya Durumu'].fillna(0, inplace=True)\n",
    "df['İlan Oda Sayısı'].fillna(df['İlan Oda Sayısı'].mean(), inplace=True)\n",
    "df['İlan Salon Sayısı'].fillna(df['İlan Salon Sayısı'].mode().iloc[0], inplace=True)\n",
    "df['Banyo Sayısı'].fillna(df['Banyo Sayısı'].mode().iloc[0], inplace=True)\n",
    "df['Binadaki Kat Sayısı'].fillna(df['Binadaki Kat Sayısı'].mode().iloc[0], inplace=True)"
   ]
  },
  {
   "cell_type": "code",
   "execution_count": 90,
   "id": "97613abf",
   "metadata": {},
   "outputs": [
    {
     "data": {
      "text/plain": [
       "Fiyat              1.000000\n",
       "Brüt m²            0.064503\n",
       "Net m²             0.058305\n",
       "İlan Oda Sayısı    0.027899\n",
       "İlan no            0.015741\n",
       "Name: Fiyat, dtype: float64"
      ]
     },
     "execution_count": 90,
     "metadata": {},
     "output_type": "execute_result"
    }
   ],
   "source": [
    "abs(df.corr()['Fiyat'].sort_values(ascending=False))"
   ]
  },
  {
   "cell_type": "code",
   "execution_count": 96,
   "id": "aa64063c",
   "metadata": {},
   "outputs": [],
   "source": [
    "df[\"İlan Oda Sayısı\"]=df[\"İlan Oda Sayısı\"]**2"
   ]
  },
  {
   "cell_type": "code",
   "execution_count": 116,
   "id": "eefab951",
   "metadata": {
    "scrolled": true
   },
   "outputs": [
    {
     "name": "stdout",
     "output_type": "stream",
     "text": [
      "<class 'pandas.core.frame.DataFrame'>\n",
      "RangeIndex: 987 entries, 0 to 986\n",
      "Data columns (total 16 columns):\n",
      " #   Column               Non-Null Count  Dtype  \n",
      "---  ------               --------------  -----  \n",
      " 0   İlan no              987 non-null    int64  \n",
      " 1   İlan Oda Sayısı      987 non-null    float64\n",
      " 2   İlan Salon Sayısı    987 non-null    int32  \n",
      " 3   Net m²               987 non-null    int64  \n",
      " 4   Brüt m²              987 non-null    int64  \n",
      " 5   Banyo Sayısı         987 non-null    int32  \n",
      " 6   Binadaki Kat Sayısı  987 non-null    int32  \n",
      " 7   Isıtma Tipi          987 non-null    int32  \n",
      " 8   Bulunduğu Kat        987 non-null    object \n",
      " 9   Krediye Uygun        987 non-null    int32  \n",
      " 10  Bina Yaşı            987 non-null    object \n",
      " 11  İlçe                 987 non-null    object \n",
      " 12  Fiyat                987 non-null    int64  \n",
      " 13  Yapının Durumu       987 non-null    object \n",
      " 14  Kullanım Durumu      987 non-null    object \n",
      " 15  Mobilya Durumu       987 non-null    object \n",
      "dtypes: float64(1), int32(5), int64(4), object(6)\n",
      "memory usage: 104.2+ KB\n"
     ]
    }
   ],
   "source": [
    "df.info()"
   ]
  },
  {
   "cell_type": "code",
   "execution_count": 117,
   "id": "a90bf7b8",
   "metadata": {},
   "outputs": [
    {
     "data": {
      "text/plain": [
       "0     261\n",
       "8     206\n",
       "4      97\n",
       "13     74\n",
       "23     71\n",
       "33     52\n",
       "28     49\n",
       "18     36\n",
       "2      30\n",
       "1      25\n",
       "3      21\n",
       "0      20\n",
       "5      18\n",
       "40     14\n",
       "36     13\n",
       "Name: Bina Yaşı, dtype: int64"
      ]
     },
     "execution_count": 117,
     "metadata": {},
     "output_type": "execute_result"
    }
   ],
   "source": [
    "df[\"Bina Yaşı\"].value_counts()"
   ]
  },
  {
   "cell_type": "code",
   "execution_count": 118,
   "id": "4b10913f",
   "metadata": {},
   "outputs": [],
   "source": [
    "for col in ('İlan Salon Sayısı','Banyo Sayısı','Binadaki Kat Sayısı','Isıtma Tipi','Bulunduğu Kat','Krediye Uygun','Bina Yaşı','Yapının Durumu','Yapının Durumu','Mobilya Durumu') : df[col]=df[col].astype(int) "
   ]
  },
  {
   "cell_type": "markdown",
   "id": "6f9df333",
   "metadata": {},
   "source": [
    "# Modelleme"
   ]
  },
  {
   "cell_type": "code",
   "execution_count": 124,
   "id": "e87d7a59",
   "metadata": {},
   "outputs": [],
   "source": [
    "from sklearn.linear_model import LinearRegression\n",
    "from sklearn.linear_model import Ridge,Lasso\n",
    "from sklearn.linear_model import ElasticNet\n",
    "from sklearn.neighbors import KNeighborsRegressor\n",
    "from sklearn.ensemble import GradientBoostingRegressor\n",
    "from sklearn.tree import ExtraTreeRegressor\n",
    "from sklearn.tree import DecisionTreeRegressor\n",
    "from xgboost import XGBRegressor\n",
    "from sklearn.model_selection import train_test_split\n",
    "from sklearn.metrics import mean_squared_error,r2_score,mean_absolute_error"
   ]
  },
  {
   "cell_type": "code",
   "execution_count": 125,
   "id": "0ea1c9ad",
   "metadata": {},
   "outputs": [],
   "source": [
    "def algo_test(x,y):\n",
    "\n",
    "        L=LinearRegression()\n",
    "        R=Ridge()\n",
    "        Lass=Lasso()\n",
    "        E=ElasticNet()\n",
    "        ETR=ExtraTreeRegressor()\n",
    "        GBR=GradientBoostingRegressor()\n",
    "        XGBC=XGBRegressor()\n",
    "        dt=DecisionTreeRegressor()\n",
    "        kn=KNeighborsRegressor()\n",
    "        \n",
    "        \n",
    "        x_train,x_test,y_train,y_test=train_test_split(x,y,test_size=.1,random_state=13)\n",
    "        \n",
    "        algos=[L,R,Lass,E,ETR,GBR,XGBC,dt,kn]\n",
    "        algo_names=['Linear','Ridge','Lasso','ElasticNet','Extra Tree','Gradient Boosting','XGradientBoosting','DecisionTree','KNeighbors']\n",
    "        \n",
    "        r2Score = []\n",
    "        rmse = []\n",
    "        mae = []\n",
    "        \n",
    "        result=pd.DataFrame(columns=['R2_score','RMSE','MAE'],index=algo_names)\n",
    "        \n",
    "        \n",
    "        for algo in algos:\n",
    "            p=algo.fit(x_train,y_train).predict(x_test)\n",
    "            r2Score.append(r2_score(y_test,p))\n",
    "            rmse.append(mean_squared_error(y_test,p)**.5)\n",
    "            mae.append(mean_absolute_error(y_test,p))\n",
    "        \n",
    "            \n",
    "        result['R2_score']=r2Score \n",
    "        result.RMSE=rmse\n",
    "        result.MAE=mae\n",
    "\n",
    "\n",
    "        return result.sort_values('R2_score',ascending=False)\n"
   ]
  },
  {
   "cell_type": "code",
   "execution_count": 126,
   "id": "42932295",
   "metadata": {},
   "outputs": [],
   "source": [
    "#İlçe için get dummies\n",
    "dfd=pd.get_dummies(df,drop_first=True)"
   ]
  },
  {
   "cell_type": "code",
   "execution_count": 127,
   "id": "bfa4ae96",
   "metadata": {},
   "outputs": [],
   "source": [
    "df_dummies = pd.get_dummies(df.drop(columns=['İlçe']), drop_first=True)\n",
    "cols = df_dummies.columns.to_list()"
   ]
  },
  {
   "cell_type": "code",
   "execution_count": 128,
   "id": "d2b56b3d",
   "metadata": {},
   "outputs": [],
   "source": [
    "from sklearn.preprocessing import MinMaxScaler\n",
    "scaler=MinMaxScaler()\n",
    "df_dummies=scaler.fit_transform(df_dummies)\n",
    "df_dummies=pd.DataFrame(df_dummies, columns=cols)"
   ]
  },
  {
   "cell_type": "code",
   "execution_count": 129,
   "id": "fa895cd1",
   "metadata": {},
   "outputs": [],
   "source": [
    "from sklearn.model_selection import train_test_split\n",
    "\n",
    "x=df_dummies.drop(columns=['Fiyat'])\n",
    "y=df_dummies['Fiyat']"
   ]
  },
  {
   "cell_type": "code",
   "execution_count": 130,
   "id": "ca63af9a",
   "metadata": {},
   "outputs": [
    {
     "data": {
      "text/html": [
       "<div>\n",
       "<style scoped>\n",
       "    .dataframe tbody tr th:only-of-type {\n",
       "        vertical-align: middle;\n",
       "    }\n",
       "\n",
       "    .dataframe tbody tr th {\n",
       "        vertical-align: top;\n",
       "    }\n",
       "\n",
       "    .dataframe thead th {\n",
       "        text-align: right;\n",
       "    }\n",
       "</style>\n",
       "<table border=\"1\" class=\"dataframe\">\n",
       "  <thead>\n",
       "    <tr style=\"text-align: right;\">\n",
       "      <th></th>\n",
       "      <th>R2_score</th>\n",
       "      <th>RMSE</th>\n",
       "      <th>MAE</th>\n",
       "    </tr>\n",
       "  </thead>\n",
       "  <tbody>\n",
       "    <tr>\n",
       "      <th>XGradientBoosting</th>\n",
       "      <td>0.672304</td>\n",
       "      <td>0.002500</td>\n",
       "      <td>0.001197</td>\n",
       "    </tr>\n",
       "    <tr>\n",
       "      <th>Extra Tree</th>\n",
       "      <td>0.519106</td>\n",
       "      <td>0.003029</td>\n",
       "      <td>0.001386</td>\n",
       "    </tr>\n",
       "    <tr>\n",
       "      <th>KNeighbors</th>\n",
       "      <td>0.439061</td>\n",
       "      <td>0.003271</td>\n",
       "      <td>0.001314</td>\n",
       "    </tr>\n",
       "    <tr>\n",
       "      <th>Gradient Boosting</th>\n",
       "      <td>0.383123</td>\n",
       "      <td>0.003431</td>\n",
       "      <td>0.001388</td>\n",
       "    </tr>\n",
       "    <tr>\n",
       "      <th>DecisionTree</th>\n",
       "      <td>0.237135</td>\n",
       "      <td>0.003815</td>\n",
       "      <td>0.001529</td>\n",
       "    </tr>\n",
       "    <tr>\n",
       "      <th>Lasso</th>\n",
       "      <td>-0.063126</td>\n",
       "      <td>0.004504</td>\n",
       "      <td>0.002843</td>\n",
       "    </tr>\n",
       "    <tr>\n",
       "      <th>ElasticNet</th>\n",
       "      <td>-0.063126</td>\n",
       "      <td>0.004504</td>\n",
       "      <td>0.002843</td>\n",
       "    </tr>\n",
       "    <tr>\n",
       "      <th>Ridge</th>\n",
       "      <td>-0.074058</td>\n",
       "      <td>0.004527</td>\n",
       "      <td>0.002968</td>\n",
       "    </tr>\n",
       "    <tr>\n",
       "      <th>Linear</th>\n",
       "      <td>-0.074621</td>\n",
       "      <td>0.004528</td>\n",
       "      <td>0.003016</td>\n",
       "    </tr>\n",
       "  </tbody>\n",
       "</table>\n",
       "</div>"
      ],
      "text/plain": [
       "                   R2_score      RMSE       MAE\n",
       "XGradientBoosting  0.672304  0.002500  0.001197\n",
       "Extra Tree         0.519106  0.003029  0.001386\n",
       "KNeighbors         0.439061  0.003271  0.001314\n",
       "Gradient Boosting  0.383123  0.003431  0.001388\n",
       "DecisionTree       0.237135  0.003815  0.001529\n",
       "Lasso             -0.063126  0.004504  0.002843\n",
       "ElasticNet        -0.063126  0.004504  0.002843\n",
       "Ridge             -0.074058  0.004527  0.002968\n",
       "Linear            -0.074621  0.004528  0.003016"
      ]
     },
     "execution_count": 130,
     "metadata": {},
     "output_type": "execute_result"
    }
   ],
   "source": [
    "algo_test(x,y)"
   ]
  },
  {
   "cell_type": "code",
   "execution_count": 141,
   "id": "98c3d4c7",
   "metadata": {},
   "outputs": [
    {
     "name": "stdout",
     "output_type": "stream",
     "text": [
      "<class 'pandas.core.frame.DataFrame'>\n",
      "RangeIndex: 987 entries, 0 to 986\n",
      "Data columns (total 16 columns):\n",
      " #   Column               Non-Null Count  Dtype  \n",
      "---  ------               --------------  -----  \n",
      " 0   İlan no              987 non-null    float64\n",
      " 1   İlan Oda Sayısı      987 non-null    float64\n",
      " 2   İlan Salon Sayısı    987 non-null    float64\n",
      " 3   Net m²               987 non-null    float64\n",
      " 4   Brüt m²              987 non-null    float64\n",
      " 5   Banyo Sayısı         987 non-null    float64\n",
      " 6   Binadaki Kat Sayısı  987 non-null    float64\n",
      " 7   Isıtma Tipi          987 non-null    float64\n",
      " 8   Bulunduğu Kat        987 non-null    float64\n",
      " 9   Krediye Uygun        987 non-null    float64\n",
      " 10  Bina Yaşı            987 non-null    float64\n",
      " 11  Fiyat                987 non-null    float64\n",
      " 12  Yapının Durumu       987 non-null    float64\n",
      " 13  Mobilya Durumu       987 non-null    float64\n",
      " 14  Kullanım Durumu_0    987 non-null    float64\n",
      " 15  Kullanım Durumu_1    987 non-null    float64\n",
      "dtypes: float64(16)\n",
      "memory usage: 123.5 KB\n"
     ]
    }
   ],
   "source": [
    "df_dummies.info()"
   ]
  },
  {
   "cell_type": "code",
   "execution_count": 145,
   "id": "cec54bf2",
   "metadata": {},
   "outputs": [
    {
     "data": {
      "text/plain": [
       "(987, 16)"
      ]
     },
     "execution_count": 145,
     "metadata": {},
     "output_type": "execute_result"
    }
   ],
   "source": [
    "df_dummies.shape"
   ]
  },
  {
   "cell_type": "markdown",
   "id": "23dd0d41",
   "metadata": {},
   "source": [
    "# Pycaret"
   ]
  },
  {
   "cell_type": "code",
   "execution_count": 136,
   "id": "ff6c9975",
   "metadata": {
    "collapsed": true
   },
   "outputs": [
    {
     "name": "stdout",
     "output_type": "stream",
     "text": [
      "Requirement already satisfied: pycaret in c:\\users\\lenovo\\anaconda3\\lib\\site-packages (3.0.0)\n",
      "Requirement already satisfied: xxhash in c:\\users\\lenovo\\anaconda3\\lib\\site-packages (from pycaret) (3.2.0)\n",
      "Requirement already satisfied: scikit-learn>=1.0 in c:\\users\\lenovo\\anaconda3\\lib\\site-packages (from pycaret) (1.2.2)\n",
      "Requirement already satisfied: numpy<1.25,>=1.21 in c:\\users\\lenovo\\anaconda3\\lib\\site-packages (from pycaret) (1.23.5)\n",
      "Requirement already satisfied: cloudpickle in c:\\users\\lenovo\\anaconda3\\lib\\site-packages (from pycaret) (2.0.0)\n",
      "Requirement already satisfied: importlib-metadata>=4.12.0 in c:\\users\\lenovo\\anaconda3\\lib\\site-packages (from pycaret) (6.6.0)\n",
      "Requirement already satisfied: tbats>=1.1.0 in c:\\users\\lenovo\\anaconda3\\lib\\site-packages (from pycaret) (1.1.3)\n",
      "Requirement already satisfied: yellowbrick>=1.4 in c:\\users\\lenovo\\anaconda3\\lib\\site-packages (from pycaret) (1.5)\n",
      "Requirement already satisfied: pmdarima!=1.8.1,<3.0.0,>=1.8.0 in c:\\users\\lenovo\\anaconda3\\lib\\site-packages (from pycaret) (2.0.3)\n",
      "Requirement already satisfied: requests>=2.27.1 in c:\\users\\lenovo\\anaconda3\\lib\\site-packages (from pycaret) (2.31.0)\n",
      "Requirement already satisfied: statsmodels>=0.12.1 in c:\\users\\lenovo\\anaconda3\\lib\\site-packages (from pycaret) (0.13.5)\n",
      "Requirement already satisfied: scipy<2.0.0 in c:\\users\\lenovo\\anaconda3\\lib\\site-packages (from pycaret) (1.10.0)\n",
      "Requirement already satisfied: plotly>=5.0.0 in c:\\users\\lenovo\\anaconda3\\lib\\site-packages (from pycaret) (5.9.0)\n",
      "Requirement already satisfied: pandas<1.6.0,>=1.3.0 in c:\\users\\lenovo\\anaconda3\\lib\\site-packages (from pycaret) (1.5.3)\n",
      "Requirement already satisfied: pyod>=1.0.8 in c:\\users\\lenovo\\anaconda3\\lib\\site-packages (from pycaret) (1.0.9)\n",
      "Requirement already satisfied: category-encoders>=2.4.0 in c:\\users\\lenovo\\anaconda3\\lib\\site-packages (from pycaret) (2.6.0)\n",
      "Requirement already satisfied: matplotlib>=3.3.0 in c:\\users\\lenovo\\anaconda3\\lib\\site-packages (from pycaret) (3.7.0)\n",
      "Requirement already satisfied: ipywidgets>=7.6.5 in c:\\users\\lenovo\\anaconda3\\lib\\site-packages (from pycaret) (7.6.5)\n",
      "Requirement already satisfied: sktime>=0.16.1 in c:\\users\\lenovo\\anaconda3\\lib\\site-packages (from pycaret) (0.17.2)\n",
      "Requirement already satisfied: psutil>=5.9.0 in c:\\users\\lenovo\\anaconda3\\lib\\site-packages (from pycaret) (5.9.0)\n",
      "Requirement already satisfied: markupsafe>=2.0.1 in c:\\users\\lenovo\\anaconda3\\lib\\site-packages (from pycaret) (2.1.1)\n",
      "Requirement already satisfied: deprecation>=2.1.0 in c:\\users\\lenovo\\anaconda3\\lib\\site-packages (from pycaret) (2.1.0)\n",
      "Requirement already satisfied: joblib>=1.2.0 in c:\\users\\lenovo\\anaconda3\\lib\\site-packages (from pycaret) (1.2.0)\n",
      "Requirement already satisfied: tqdm>=4.62.0 in c:\\users\\lenovo\\anaconda3\\lib\\site-packages (from pycaret) (4.64.1)\n",
      "Requirement already satisfied: numba>=0.55.0 in c:\\users\\lenovo\\anaconda3\\lib\\site-packages (from pycaret) (0.56.4)\n",
      "Requirement already satisfied: plotly-resampler>=0.8.3.1 in c:\\users\\lenovo\\anaconda3\\lib\\site-packages (from pycaret) (0.8.3.2)\n",
      "Requirement already satisfied: nbformat>=4.2.0 in c:\\users\\lenovo\\anaconda3\\lib\\site-packages (from pycaret) (5.7.0)\n",
      "Requirement already satisfied: ipython>=5.5.0 in c:\\users\\lenovo\\anaconda3\\lib\\site-packages (from pycaret) (8.10.0)\n",
      "Requirement already satisfied: schemdraw>=0.14 in c:\\users\\lenovo\\anaconda3\\lib\\site-packages (from pycaret) (0.16)\n",
      "Requirement already satisfied: scikit-plot>=0.3.7 in c:\\users\\lenovo\\anaconda3\\lib\\site-packages (from pycaret) (0.3.7)\n",
      "Requirement already satisfied: jinja2>=1.2 in c:\\users\\lenovo\\anaconda3\\lib\\site-packages (from pycaret) (3.1.2)\n",
      "Requirement already satisfied: imbalanced-learn>=0.8.1 in c:\\users\\lenovo\\anaconda3\\lib\\site-packages (from pycaret) (0.10.1)\n",
      "Requirement already satisfied: lightgbm>=3.0.0 in c:\\users\\lenovo\\anaconda3\\lib\\site-packages (from pycaret) (3.3.5)\n",
      "Requirement already satisfied: kaleido>=0.2.1 in c:\\users\\lenovo\\anaconda3\\lib\\site-packages (from pycaret) (0.2.1)\n",
      "Requirement already satisfied: patsy>=0.5.1 in c:\\users\\lenovo\\anaconda3\\lib\\site-packages (from category-encoders>=2.4.0->pycaret) (0.5.3)\n",
      "Requirement already satisfied: packaging in c:\\users\\lenovo\\anaconda3\\lib\\site-packages (from deprecation>=2.1.0->pycaret) (22.0)\n",
      "Requirement already satisfied: threadpoolctl>=2.0.0 in c:\\users\\lenovo\\anaconda3\\lib\\site-packages (from imbalanced-learn>=0.8.1->pycaret) (2.2.0)\n",
      "Requirement already satisfied: zipp>=0.5 in c:\\users\\lenovo\\anaconda3\\lib\\site-packages (from importlib-metadata>=4.12.0->pycaret) (3.11.0)\n",
      "Requirement already satisfied: jedi>=0.16 in c:\\users\\lenovo\\anaconda3\\lib\\site-packages (from ipython>=5.5.0->pycaret) (0.18.1)\n",
      "Requirement already satisfied: prompt-toolkit<3.1.0,>=3.0.30 in c:\\users\\lenovo\\anaconda3\\lib\\site-packages (from ipython>=5.5.0->pycaret) (3.0.36)\n",
      "Requirement already satisfied: colorama in c:\\users\\lenovo\\anaconda3\\lib\\site-packages (from ipython>=5.5.0->pycaret) (0.4.6)\n",
      "Requirement already satisfied: stack-data in c:\\users\\lenovo\\anaconda3\\lib\\site-packages (from ipython>=5.5.0->pycaret) (0.2.0)\n",
      "Requirement already satisfied: backcall in c:\\users\\lenovo\\anaconda3\\lib\\site-packages (from ipython>=5.5.0->pycaret) (0.2.0)\n",
      "Requirement already satisfied: decorator in c:\\users\\lenovo\\anaconda3\\lib\\site-packages (from ipython>=5.5.0->pycaret) (5.1.1)\n",
      "Requirement already satisfied: matplotlib-inline in c:\\users\\lenovo\\anaconda3\\lib\\site-packages (from ipython>=5.5.0->pycaret) (0.1.6)\n",
      "Requirement already satisfied: pygments>=2.4.0 in c:\\users\\lenovo\\anaconda3\\lib\\site-packages (from ipython>=5.5.0->pycaret) (2.11.2)\n",
      "Requirement already satisfied: traitlets>=5 in c:\\users\\lenovo\\anaconda3\\lib\\site-packages (from ipython>=5.5.0->pycaret) (5.7.1)\n",
      "Requirement already satisfied: pickleshare in c:\\users\\lenovo\\anaconda3\\lib\\site-packages (from ipython>=5.5.0->pycaret) (0.7.5)\n",
      "Requirement already satisfied: ipykernel>=4.5.1 in c:\\users\\lenovo\\anaconda3\\lib\\site-packages (from ipywidgets>=7.6.5->pycaret) (6.19.2)\n",
      "Requirement already satisfied: jupyterlab-widgets>=1.0.0 in c:\\users\\lenovo\\anaconda3\\lib\\site-packages (from ipywidgets>=7.6.5->pycaret) (1.0.0)\n",
      "Requirement already satisfied: ipython-genutils~=0.2.0 in c:\\users\\lenovo\\anaconda3\\lib\\site-packages (from ipywidgets>=7.6.5->pycaret) (0.2.0)\n",
      "Requirement already satisfied: widgetsnbextension~=3.5.0 in c:\\users\\lenovo\\anaconda3\\lib\\site-packages (from ipywidgets>=7.6.5->pycaret) (3.5.2)\n",
      "Requirement already satisfied: wheel in c:\\users\\lenovo\\anaconda3\\lib\\site-packages (from lightgbm>=3.0.0->pycaret) (0.38.4)\n",
      "Requirement already satisfied: contourpy>=1.0.1 in c:\\users\\lenovo\\anaconda3\\lib\\site-packages (from matplotlib>=3.3.0->pycaret) (1.0.5)\n",
      "Requirement already satisfied: cycler>=0.10 in c:\\users\\lenovo\\anaconda3\\lib\\site-packages (from matplotlib>=3.3.0->pycaret) (0.11.0)\n",
      "Requirement already satisfied: fonttools>=4.22.0 in c:\\users\\lenovo\\anaconda3\\lib\\site-packages (from matplotlib>=3.3.0->pycaret) (4.25.0)\n",
      "Requirement already satisfied: pyparsing>=2.3.1 in c:\\users\\lenovo\\anaconda3\\lib\\site-packages (from matplotlib>=3.3.0->pycaret) (3.0.9)\n",
      "Requirement already satisfied: kiwisolver>=1.0.1 in c:\\users\\lenovo\\anaconda3\\lib\\site-packages (from matplotlib>=3.3.0->pycaret) (1.4.4)\n",
      "Requirement already satisfied: python-dateutil>=2.7 in c:\\users\\lenovo\\anaconda3\\lib\\site-packages (from matplotlib>=3.3.0->pycaret) (2.8.2)\n",
      "Requirement already satisfied: pillow>=6.2.0 in c:\\users\\lenovo\\anaconda3\\lib\\site-packages (from matplotlib>=3.3.0->pycaret) (9.4.0)\n",
      "Requirement already satisfied: fastjsonschema in c:\\users\\lenovo\\anaconda3\\lib\\site-packages (from nbformat>=4.2.0->pycaret) (2.16.2)\n",
      "Requirement already satisfied: jupyter-core in c:\\users\\lenovo\\anaconda3\\lib\\site-packages (from nbformat>=4.2.0->pycaret) (5.2.0)\n",
      "Requirement already satisfied: jsonschema>=2.6 in c:\\users\\lenovo\\anaconda3\\lib\\site-packages (from nbformat>=4.2.0->pycaret) (4.17.3)\n",
      "Requirement already satisfied: setuptools in c:\\users\\lenovo\\anaconda3\\lib\\site-packages (from numba>=0.55.0->pycaret) (65.6.3)\n",
      "Requirement already satisfied: llvmlite<0.40,>=0.39.0dev0 in c:\\users\\lenovo\\anaconda3\\lib\\site-packages (from numba>=0.55.0->pycaret) (0.39.1)\n",
      "Requirement already satisfied: pytz>=2020.1 in c:\\users\\lenovo\\anaconda3\\lib\\site-packages (from pandas<1.6.0,>=1.3.0->pycaret) (2022.7)\n",
      "Requirement already satisfied: tenacity>=6.2.0 in c:\\users\\lenovo\\anaconda3\\lib\\site-packages (from plotly>=5.0.0->pycaret) (8.0.1)\n",
      "Requirement already satisfied: dash<3.0.0,>=2.2.0 in c:\\users\\lenovo\\anaconda3\\lib\\site-packages (from plotly-resampler>=0.8.3.1->pycaret) (2.9.3)\n",
      "Requirement already satisfied: trace-updater>=0.0.8 in c:\\users\\lenovo\\anaconda3\\lib\\site-packages (from plotly-resampler>=0.8.3.1->pycaret) (0.0.9.1)\n",
      "Requirement already satisfied: jupyter-dash>=0.4.2 in c:\\users\\lenovo\\anaconda3\\lib\\site-packages (from plotly-resampler>=0.8.3.1->pycaret) (0.4.2)\n",
      "Requirement already satisfied: orjson<4.0.0,>=3.8.0 in c:\\users\\lenovo\\anaconda3\\lib\\site-packages (from plotly-resampler>=0.8.3.1->pycaret) (3.8.10)\n",
      "Requirement already satisfied: urllib3 in c:\\users\\lenovo\\anaconda3\\lib\\site-packages (from pmdarima!=1.8.1,<3.0.0,>=1.8.0->pycaret) (1.26.14)\n",
      "Requirement already satisfied: Cython!=0.29.18,!=0.29.31,>=0.29 in c:\\users\\lenovo\\anaconda3\\lib\\site-packages (from pmdarima!=1.8.1,<3.0.0,>=1.8.0->pycaret) (0.29.34)\n",
      "Requirement already satisfied: six in c:\\users\\lenovo\\anaconda3\\lib\\site-packages (from pyod>=1.0.8->pycaret) (1.16.0)\n",
      "Requirement already satisfied: idna<4,>=2.5 in c:\\users\\lenovo\\anaconda3\\lib\\site-packages (from requests>=2.27.1->pycaret) (3.4)\n",
      "Requirement already satisfied: certifi>=2017.4.17 in c:\\users\\lenovo\\anaconda3\\lib\\site-packages (from requests>=2.27.1->pycaret) (2022.12.7)\n",
      "Requirement already satisfied: charset-normalizer<4,>=2 in c:\\users\\lenovo\\anaconda3\\lib\\site-packages (from requests>=2.27.1->pycaret) (2.0.4)\n",
      "Requirement already satisfied: deprecated>=1.2.13 in c:\\users\\lenovo\\anaconda3\\lib\\site-packages (from sktime>=0.16.1->pycaret) (1.2.13)\n",
      "Requirement already satisfied: Flask>=1.0.4 in c:\\users\\lenovo\\anaconda3\\lib\\site-packages (from dash<3.0.0,>=2.2.0->plotly-resampler>=0.8.3.1->pycaret) (2.2.2)\n",
      "Requirement already satisfied: dash-core-components==2.0.0 in c:\\users\\lenovo\\anaconda3\\lib\\site-packages (from dash<3.0.0,>=2.2.0->plotly-resampler>=0.8.3.1->pycaret) (2.0.0)\n",
      "Requirement already satisfied: dash-table==5.0.0 in c:\\users\\lenovo\\anaconda3\\lib\\site-packages (from dash<3.0.0,>=2.2.0->plotly-resampler>=0.8.3.1->pycaret) (5.0.0)\n",
      "Requirement already satisfied: dash-html-components==2.0.0 in c:\\users\\lenovo\\anaconda3\\lib\\site-packages (from dash<3.0.0,>=2.2.0->plotly-resampler>=0.8.3.1->pycaret) (2.0.0)\n",
      "Requirement already satisfied: wrapt<2,>=1.10 in c:\\users\\lenovo\\anaconda3\\lib\\site-packages (from deprecated>=1.2.13->sktime>=0.16.1->pycaret) (1.14.1)\n",
      "Requirement already satisfied: nest-asyncio in c:\\users\\lenovo\\anaconda3\\lib\\site-packages (from ipykernel>=4.5.1->ipywidgets>=7.6.5->pycaret) (1.5.6)\n",
      "Requirement already satisfied: tornado>=6.1 in c:\\users\\lenovo\\anaconda3\\lib\\site-packages (from ipykernel>=4.5.1->ipywidgets>=7.6.5->pycaret) (6.1)\n",
      "Requirement already satisfied: debugpy>=1.0 in c:\\users\\lenovo\\anaconda3\\lib\\site-packages (from ipykernel>=4.5.1->ipywidgets>=7.6.5->pycaret) (1.5.1)\n",
      "Requirement already satisfied: comm>=0.1.1 in c:\\users\\lenovo\\anaconda3\\lib\\site-packages (from ipykernel>=4.5.1->ipywidgets>=7.6.5->pycaret) (0.1.2)\n",
      "Requirement already satisfied: pyzmq>=17 in c:\\users\\lenovo\\anaconda3\\lib\\site-packages (from ipykernel>=4.5.1->ipywidgets>=7.6.5->pycaret) (23.2.0)\n",
      "Requirement already satisfied: jupyter-client>=6.1.12 in c:\\users\\lenovo\\anaconda3\\lib\\site-packages (from ipykernel>=4.5.1->ipywidgets>=7.6.5->pycaret) (7.3.4)\n",
      "Requirement already satisfied: parso<0.9.0,>=0.8.0 in c:\\users\\lenovo\\anaconda3\\lib\\site-packages (from jedi>=0.16->ipython>=5.5.0->pycaret) (0.8.3)\n",
      "Requirement already satisfied: pyrsistent!=0.17.0,!=0.17.1,!=0.17.2,>=0.14.0 in c:\\users\\lenovo\\anaconda3\\lib\\site-packages (from jsonschema>=2.6->nbformat>=4.2.0->pycaret) (0.18.0)\n",
      "Requirement already satisfied: attrs>=17.4.0 in c:\\users\\lenovo\\anaconda3\\lib\\site-packages (from jsonschema>=2.6->nbformat>=4.2.0->pycaret) (22.1.0)\n",
      "Requirement already satisfied: retrying in c:\\users\\lenovo\\anaconda3\\lib\\site-packages (from jupyter-dash>=0.4.2->plotly-resampler>=0.8.3.1->pycaret) (1.3.4)\n",
      "Requirement already satisfied: ansi2html in c:\\users\\lenovo\\anaconda3\\lib\\site-packages (from jupyter-dash>=0.4.2->plotly-resampler>=0.8.3.1->pycaret) (1.8.0)\n",
      "Requirement already satisfied: wcwidth in c:\\users\\lenovo\\anaconda3\\lib\\site-packages (from prompt-toolkit<3.1.0,>=3.0.30->ipython>=5.5.0->pycaret) (0.2.5)\n",
      "Requirement already satisfied: notebook>=4.4.1 in c:\\users\\lenovo\\anaconda3\\lib\\site-packages (from widgetsnbextension~=3.5.0->ipywidgets>=7.6.5->pycaret) (6.5.2)\n",
      "Requirement already satisfied: pywin32>=1.0 in c:\\users\\lenovo\\anaconda3\\lib\\site-packages (from jupyter-core->nbformat>=4.2.0->pycaret) (305.1)\n",
      "Requirement already satisfied: platformdirs>=2.5 in c:\\users\\lenovo\\anaconda3\\lib\\site-packages (from jupyter-core->nbformat>=4.2.0->pycaret) (2.5.2)\n",
      "Requirement already satisfied: pure-eval in c:\\users\\lenovo\\anaconda3\\lib\\site-packages (from stack-data->ipython>=5.5.0->pycaret) (0.2.2)\n",
      "Requirement already satisfied: asttokens in c:\\users\\lenovo\\anaconda3\\lib\\site-packages (from stack-data->ipython>=5.5.0->pycaret) (2.0.5)\n",
      "Requirement already satisfied: executing in c:\\users\\lenovo\\anaconda3\\lib\\site-packages (from stack-data->ipython>=5.5.0->pycaret) (0.8.3)\n",
      "Requirement already satisfied: itsdangerous>=2.0 in c:\\users\\lenovo\\anaconda3\\lib\\site-packages (from Flask>=1.0.4->dash<3.0.0,>=2.2.0->plotly-resampler>=0.8.3.1->pycaret) (2.0.1)\n",
      "Requirement already satisfied: Werkzeug>=2.2.2 in c:\\users\\lenovo\\anaconda3\\lib\\site-packages (from Flask>=1.0.4->dash<3.0.0,>=2.2.0->plotly-resampler>=0.8.3.1->pycaret) (2.2.2)\n",
      "Requirement already satisfied: click>=8.0 in c:\\users\\lenovo\\anaconda3\\lib\\site-packages (from Flask>=1.0.4->dash<3.0.0,>=2.2.0->plotly-resampler>=0.8.3.1->pycaret) (8.0.4)\n",
      "Requirement already satisfied: entrypoints in c:\\users\\lenovo\\anaconda3\\lib\\site-packages (from jupyter-client>=6.1.12->ipykernel>=4.5.1->ipywidgets>=7.6.5->pycaret) (0.4)\n",
      "Requirement already satisfied: argon2-cffi in c:\\users\\lenovo\\anaconda3\\lib\\site-packages (from notebook>=4.4.1->widgetsnbextension~=3.5.0->ipywidgets>=7.6.5->pycaret) (21.3.0)\n",
      "Requirement already satisfied: nbconvert>=5 in c:\\users\\lenovo\\anaconda3\\lib\\site-packages (from notebook>=4.4.1->widgetsnbextension~=3.5.0->ipywidgets>=7.6.5->pycaret) (6.5.4)\n",
      "Requirement already satisfied: terminado>=0.8.3 in c:\\users\\lenovo\\anaconda3\\lib\\site-packages (from notebook>=4.4.1->widgetsnbextension~=3.5.0->ipywidgets>=7.6.5->pycaret) (0.17.1)\n",
      "Requirement already satisfied: Send2Trash>=1.8.0 in c:\\users\\lenovo\\anaconda3\\lib\\site-packages (from notebook>=4.4.1->widgetsnbextension~=3.5.0->ipywidgets>=7.6.5->pycaret) (1.8.0)\n",
      "Requirement already satisfied: nbclassic>=0.4.7 in c:\\users\\lenovo\\anaconda3\\lib\\site-packages (from notebook>=4.4.1->widgetsnbextension~=3.5.0->ipywidgets>=7.6.5->pycaret) (0.5.2)\n",
      "Requirement already satisfied: prometheus-client in c:\\users\\lenovo\\anaconda3\\lib\\site-packages (from notebook>=4.4.1->widgetsnbextension~=3.5.0->ipywidgets>=7.6.5->pycaret) (0.14.1)\n",
      "Requirement already satisfied: jupyter-server>=1.8 in c:\\users\\lenovo\\anaconda3\\lib\\site-packages (from nbclassic>=0.4.7->notebook>=4.4.1->widgetsnbextension~=3.5.0->ipywidgets>=7.6.5->pycaret) (1.23.4)\n",
      "Requirement already satisfied: notebook-shim>=0.1.0 in c:\\users\\lenovo\\anaconda3\\lib\\site-packages (from nbclassic>=0.4.7->notebook>=4.4.1->widgetsnbextension~=3.5.0->ipywidgets>=7.6.5->pycaret) (0.2.2)\n",
      "Requirement already satisfied: mistune<2,>=0.8.1 in c:\\users\\lenovo\\anaconda3\\lib\\site-packages (from nbconvert>=5->notebook>=4.4.1->widgetsnbextension~=3.5.0->ipywidgets>=7.6.5->pycaret) (0.8.4)\n",
      "Requirement already satisfied: bleach in c:\\users\\lenovo\\anaconda3\\lib\\site-packages (from nbconvert>=5->notebook>=4.4.1->widgetsnbextension~=3.5.0->ipywidgets>=7.6.5->pycaret) (4.1.0)\n",
      "Requirement already satisfied: defusedxml in c:\\users\\lenovo\\anaconda3\\lib\\site-packages (from nbconvert>=5->notebook>=4.4.1->widgetsnbextension~=3.5.0->ipywidgets>=7.6.5->pycaret) (0.7.1)\n",
      "Requirement already satisfied: beautifulsoup4 in c:\\users\\lenovo\\anaconda3\\lib\\site-packages (from nbconvert>=5->notebook>=4.4.1->widgetsnbextension~=3.5.0->ipywidgets>=7.6.5->pycaret) (4.11.1)\n",
      "Requirement already satisfied: lxml in c:\\users\\lenovo\\anaconda3\\lib\\site-packages (from nbconvert>=5->notebook>=4.4.1->widgetsnbextension~=3.5.0->ipywidgets>=7.6.5->pycaret) (4.9.1)\n",
      "Requirement already satisfied: tinycss2 in c:\\users\\lenovo\\anaconda3\\lib\\site-packages (from nbconvert>=5->notebook>=4.4.1->widgetsnbextension~=3.5.0->ipywidgets>=7.6.5->pycaret) (1.2.1)\n",
      "Requirement already satisfied: nbclient>=0.5.0 in c:\\users\\lenovo\\anaconda3\\lib\\site-packages (from nbconvert>=5->notebook>=4.4.1->widgetsnbextension~=3.5.0->ipywidgets>=7.6.5->pycaret) (0.5.13)\n",
      "Requirement already satisfied: pandocfilters>=1.4.1 in c:\\users\\lenovo\\anaconda3\\lib\\site-packages (from nbconvert>=5->notebook>=4.4.1->widgetsnbextension~=3.5.0->ipywidgets>=7.6.5->pycaret) (1.5.0)\n",
      "Requirement already satisfied: jupyterlab-pygments in c:\\users\\lenovo\\anaconda3\\lib\\site-packages (from nbconvert>=5->notebook>=4.4.1->widgetsnbextension~=3.5.0->ipywidgets>=7.6.5->pycaret) (0.1.2)\n",
      "Requirement already satisfied: pywinpty>=1.1.0 in c:\\users\\lenovo\\anaconda3\\lib\\site-packages (from terminado>=0.8.3->notebook>=4.4.1->widgetsnbextension~=3.5.0->ipywidgets>=7.6.5->pycaret) (2.0.10)\n",
      "Requirement already satisfied: argon2-cffi-bindings in c:\\users\\lenovo\\anaconda3\\lib\\site-packages (from argon2-cffi->notebook>=4.4.1->widgetsnbextension~=3.5.0->ipywidgets>=7.6.5->pycaret) (21.2.0)\n",
      "Requirement already satisfied: anyio<4,>=3.1.0 in c:\\users\\lenovo\\anaconda3\\lib\\site-packages (from jupyter-server>=1.8->nbclassic>=0.4.7->notebook>=4.4.1->widgetsnbextension~=3.5.0->ipywidgets>=7.6.5->pycaret) (3.5.0)\n",
      "Requirement already satisfied: websocket-client in c:\\users\\lenovo\\anaconda3\\lib\\site-packages (from jupyter-server>=1.8->nbclassic>=0.4.7->notebook>=4.4.1->widgetsnbextension~=3.5.0->ipywidgets>=7.6.5->pycaret) (1.5.2)\n",
      "Requirement already satisfied: cffi>=1.0.1 in c:\\users\\lenovo\\anaconda3\\lib\\site-packages (from argon2-cffi-bindings->argon2-cffi->notebook>=4.4.1->widgetsnbextension~=3.5.0->ipywidgets>=7.6.5->pycaret) (1.15.1)\n",
      "Requirement already satisfied: soupsieve>1.2 in c:\\users\\lenovo\\anaconda3\\lib\\site-packages (from beautifulsoup4->nbconvert>=5->notebook>=4.4.1->widgetsnbextension~=3.5.0->ipywidgets>=7.6.5->pycaret) (2.3.2.post1)\n",
      "Requirement already satisfied: webencodings in c:\\users\\lenovo\\anaconda3\\lib\\site-packages (from bleach->nbconvert>=5->notebook>=4.4.1->widgetsnbextension~=3.5.0->ipywidgets>=7.6.5->pycaret) (0.5.1)\n",
      "Requirement already satisfied: sniffio>=1.1 in c:\\users\\lenovo\\anaconda3\\lib\\site-packages (from anyio<4,>=3.1.0->jupyter-server>=1.8->nbclassic>=0.4.7->notebook>=4.4.1->widgetsnbextension~=3.5.0->ipywidgets>=7.6.5->pycaret) (1.2.0)\n",
      "Requirement already satisfied: pycparser in c:\\users\\lenovo\\anaconda3\\lib\\site-packages (from cffi>=1.0.1->argon2-cffi-bindings->argon2-cffi->notebook>=4.4.1->widgetsnbextension~=3.5.0->ipywidgets>=7.6.5->pycaret) (2.21)\n",
      "Note: you may need to restart the kernel to use updated packages.\n"
     ]
    }
   ],
   "source": [
    "#Colabta çalışıyor\n",
    "#pip install pycaret"
   ]
  },
  {
   "cell_type": "code",
   "execution_count": 142,
   "id": "3c2846f1",
   "metadata": {
    "collapsed": true
   },
   "outputs": [
    {
     "name": "stdout",
     "output_type": "stream",
     "text": [
      "Requirement already satisfied: scikit-learn in c:\\users\\lenovo\\anaconda3\\lib\\site-packages (1.2.2)\n",
      "Requirement already satisfied: numpy>=1.17.3 in c:\\users\\lenovo\\anaconda3\\lib\\site-packages (from scikit-learn) (1.23.5)\n",
      "Requirement already satisfied: scipy>=1.3.2 in c:\\users\\lenovo\\anaconda3\\lib\\site-packages (from scikit-learn) (1.10.0)\n",
      "Requirement already satisfied: joblib>=1.1.1 in c:\\users\\lenovo\\anaconda3\\lib\\site-packages (from scikit-learn) (1.2.0)\n",
      "Requirement already satisfied: threadpoolctl>=2.0.0 in c:\\users\\lenovo\\anaconda3\\lib\\site-packages (from scikit-learn) (2.2.0)\n",
      "Note: you may need to restart the kernel to use updated packages.\n"
     ]
    }
   ],
   "source": [
    "pip install scikit-learn"
   ]
  },
  {
   "cell_type": "code",
   "execution_count": 143,
   "id": "72bd38c3",
   "metadata": {},
   "outputs": [
    {
     "name": "stdout",
     "output_type": "stream",
     "text": [
      "Requirement already satisfied: threadpoolctl in c:\\users\\lenovo\\anaconda3\\lib\\site-packages (2.2.0)\n",
      "Note: you may need to restart the kernel to use updated packages.\n"
     ]
    }
   ],
   "source": [
    "pip install threadpoolctl"
   ]
  },
  {
   "cell_type": "code",
   "execution_count": 159,
   "id": "483db280",
   "metadata": {},
   "outputs": [],
   "source": [
    "df_dummies.to_csv('df_dummies.csv', index=False)"
   ]
  },
  {
   "cell_type": "code",
   "execution_count": 144,
   "id": "f95ec99e",
   "metadata": {},
   "outputs": [],
   "source": [
    "# Pycaret\n",
    "train=df_dummies[:494]\n",
    "test=df_dummies[494:]"
   ]
  },
  {
   "cell_type": "code",
   "execution_count": 146,
   "id": "263c134b",
   "metadata": {},
   "outputs": [],
   "source": [
    "y=train[\"Fiyat\"]\n",
    "x=train.drop(\"Fiyat\", axis=1)"
   ]
  },
  {
   "cell_type": "code",
   "execution_count": 147,
   "id": "b82d7074",
   "metadata": {
    "collapsed": true
   },
   "outputs": [
    {
     "ename": "AttributeError",
     "evalue": "'NoneType' object has no attribute 'split'",
     "output_type": "error",
     "traceback": [
      "\u001b[1;31m---------------------------------------------------------------------------\u001b[0m",
      "\u001b[1;31mAttributeError\u001b[0m                            Traceback (most recent call last)",
      "Cell \u001b[1;32mIn[147], line 1\u001b[0m\n\u001b[1;32m----> 1\u001b[0m \u001b[38;5;28;01mfrom\u001b[39;00m \u001b[38;5;21;01mpycaret\u001b[39;00m\u001b[38;5;21;01m.\u001b[39;00m\u001b[38;5;21;01mregression\u001b[39;00m \u001b[38;5;28;01mimport\u001b[39;00m\u001b[38;5;241m*\u001b[39m\n",
      "File \u001b[1;32m~\\anaconda3\\lib\\site-packages\\pycaret\\regression\\__init__.py:1\u001b[0m\n\u001b[1;32m----> 1\u001b[0m \u001b[38;5;28;01mfrom\u001b[39;00m \u001b[38;5;21;01mpycaret\u001b[39;00m\u001b[38;5;21;01m.\u001b[39;00m\u001b[38;5;21;01mregression\u001b[39;00m\u001b[38;5;21;01m.\u001b[39;00m\u001b[38;5;21;01mfunctional\u001b[39;00m \u001b[38;5;28;01mimport\u001b[39;00m (\n\u001b[0;32m      2\u001b[0m     add_metric,\n\u001b[0;32m      3\u001b[0m     automl,\n\u001b[0;32m      4\u001b[0m     blend_models,\n\u001b[0;32m      5\u001b[0m     check_drift,\n\u001b[0;32m      6\u001b[0m     check_fairness,\n\u001b[0;32m      7\u001b[0m     compare_models,\n\u001b[0;32m      8\u001b[0m     convert_model,\n\u001b[0;32m      9\u001b[0m     create_api,\n\u001b[0;32m     10\u001b[0m     create_app,\n\u001b[0;32m     11\u001b[0m     create_docker,\n\u001b[0;32m     12\u001b[0m     create_model,\n\u001b[0;32m     13\u001b[0m     dashboard,\n\u001b[0;32m     14\u001b[0m     deep_check,\n\u001b[0;32m     15\u001b[0m     deploy_model,\n\u001b[0;32m     16\u001b[0m     eda,\n\u001b[0;32m     17\u001b[0m     ensemble_model,\n\u001b[0;32m     18\u001b[0m     evaluate_model,\n\u001b[0;32m     19\u001b[0m     finalize_model,\n\u001b[0;32m     20\u001b[0m     get_allowed_engines,\n\u001b[0;32m     21\u001b[0m     get_config,\n\u001b[0;32m     22\u001b[0m     get_current_experiment,\n\u001b[0;32m     23\u001b[0m     get_engine,\n\u001b[0;32m     24\u001b[0m     get_leaderboard,\n\u001b[0;32m     25\u001b[0m     get_logs,\n\u001b[0;32m     26\u001b[0m     get_metrics,\n\u001b[0;32m     27\u001b[0m     interpret_model,\n\u001b[0;32m     28\u001b[0m     load_experiment,\n\u001b[0;32m     29\u001b[0m     load_model,\n\u001b[0;32m     30\u001b[0m     models,\n\u001b[0;32m     31\u001b[0m     plot_model,\n\u001b[0;32m     32\u001b[0m     predict_model,\n\u001b[0;32m     33\u001b[0m     pull,\n\u001b[0;32m     34\u001b[0m     remove_metric,\n\u001b[0;32m     35\u001b[0m     save_experiment,\n\u001b[0;32m     36\u001b[0m     save_model,\n\u001b[0;32m     37\u001b[0m     set_config,\n\u001b[0;32m     38\u001b[0m     set_current_experiment,\n\u001b[0;32m     39\u001b[0m     setup,\n\u001b[0;32m     40\u001b[0m     stack_models,\n\u001b[0;32m     41\u001b[0m     tune_model,\n\u001b[0;32m     42\u001b[0m )\n\u001b[0;32m     43\u001b[0m \u001b[38;5;28;01mfrom\u001b[39;00m \u001b[38;5;21;01mpycaret\u001b[39;00m\u001b[38;5;21;01m.\u001b[39;00m\u001b[38;5;21;01mregression\u001b[39;00m\u001b[38;5;21;01m.\u001b[39;00m\u001b[38;5;21;01moop\u001b[39;00m \u001b[38;5;28;01mimport\u001b[39;00m RegressionExperiment\n\u001b[0;32m     45\u001b[0m __all__ \u001b[38;5;241m=\u001b[39m [\n\u001b[0;32m     46\u001b[0m     \u001b[38;5;124m\"\u001b[39m\u001b[38;5;124mRegressionExperiment\u001b[39m\u001b[38;5;124m\"\u001b[39m,\n\u001b[0;32m     47\u001b[0m     \u001b[38;5;124m\"\u001b[39m\u001b[38;5;124msetup\u001b[39m\u001b[38;5;124m\"\u001b[39m,\n\u001b[1;32m   (...)\u001b[0m\n\u001b[0;32m     86\u001b[0m     \u001b[38;5;124m\"\u001b[39m\u001b[38;5;124mcheck_drift\u001b[39m\u001b[38;5;124m\"\u001b[39m,\n\u001b[0;32m     87\u001b[0m ]\n",
      "File \u001b[1;32m~\\anaconda3\\lib\\site-packages\\pycaret\\regression\\functional.py:10\u001b[0m\n\u001b[0;32m      8\u001b[0m \u001b[38;5;28;01mfrom\u001b[39;00m \u001b[38;5;21;01mpycaret\u001b[39;00m\u001b[38;5;21;01m.\u001b[39;00m\u001b[38;5;21;01minternal\u001b[39;00m\u001b[38;5;21;01m.\u001b[39;00m\u001b[38;5;21;01mparallel\u001b[39;00m\u001b[38;5;21;01m.\u001b[39;00m\u001b[38;5;21;01mparallel_backend\u001b[39;00m \u001b[38;5;28;01mimport\u001b[39;00m ParallelBackend\n\u001b[0;32m      9\u001b[0m \u001b[38;5;28;01mfrom\u001b[39;00m \u001b[38;5;21;01mpycaret\u001b[39;00m\u001b[38;5;21;01m.\u001b[39;00m\u001b[38;5;21;01mloggers\u001b[39;00m\u001b[38;5;21;01m.\u001b[39;00m\u001b[38;5;21;01mbase_logger\u001b[39;00m \u001b[38;5;28;01mimport\u001b[39;00m BaseLogger\n\u001b[1;32m---> 10\u001b[0m \u001b[38;5;28;01mfrom\u001b[39;00m \u001b[38;5;21;01mpycaret\u001b[39;00m\u001b[38;5;21;01m.\u001b[39;00m\u001b[38;5;21;01mregression\u001b[39;00m\u001b[38;5;21;01m.\u001b[39;00m\u001b[38;5;21;01moop\u001b[39;00m \u001b[38;5;28;01mimport\u001b[39;00m RegressionExperiment\n\u001b[0;32m     11\u001b[0m \u001b[38;5;28;01mfrom\u001b[39;00m \u001b[38;5;21;01mpycaret\u001b[39;00m\u001b[38;5;21;01m.\u001b[39;00m\u001b[38;5;21;01mutils\u001b[39;00m\u001b[38;5;21;01m.\u001b[39;00m\u001b[38;5;21;01mconstants\u001b[39;00m \u001b[38;5;28;01mimport\u001b[39;00m DATAFRAME_LIKE, SEQUENCE_LIKE, TARGET_LIKE\n\u001b[0;32m     12\u001b[0m \u001b[38;5;28;01mfrom\u001b[39;00m \u001b[38;5;21;01mpycaret\u001b[39;00m\u001b[38;5;21;01m.\u001b[39;00m\u001b[38;5;21;01mutils\u001b[39;00m\u001b[38;5;21;01m.\u001b[39;00m\u001b[38;5;21;01mgeneric\u001b[39;00m \u001b[38;5;28;01mimport\u001b[39;00m check_if_global_is_not_none\n",
      "File \u001b[1;32m~\\anaconda3\\lib\\site-packages\\pycaret\\regression\\oop.py:11\u001b[0m\n\u001b[0;32m      8\u001b[0m \u001b[38;5;28;01mfrom\u001b[39;00m \u001b[38;5;21;01mjoblib\u001b[39;00m\u001b[38;5;21;01m.\u001b[39;00m\u001b[38;5;21;01mmemory\u001b[39;00m \u001b[38;5;28;01mimport\u001b[39;00m Memory\n\u001b[0;32m     10\u001b[0m \u001b[38;5;28;01mfrom\u001b[39;00m \u001b[38;5;21;01mpycaret\u001b[39;00m\u001b[38;5;21;01m.\u001b[39;00m\u001b[38;5;21;01mcontainers\u001b[39;00m\u001b[38;5;21;01m.\u001b[39;00m\u001b[38;5;21;01mmetrics\u001b[39;00m \u001b[38;5;28;01mimport\u001b[39;00m get_all_reg_metric_containers\n\u001b[1;32m---> 11\u001b[0m \u001b[38;5;28;01mfrom\u001b[39;00m \u001b[38;5;21;01mpycaret\u001b[39;00m\u001b[38;5;21;01m.\u001b[39;00m\u001b[38;5;21;01mcontainers\u001b[39;00m\u001b[38;5;21;01m.\u001b[39;00m\u001b[38;5;21;01mmodels\u001b[39;00m \u001b[38;5;28;01mimport\u001b[39;00m get_all_reg_model_containers\n\u001b[0;32m     12\u001b[0m \u001b[38;5;28;01mfrom\u001b[39;00m \u001b[38;5;21;01mpycaret\u001b[39;00m\u001b[38;5;21;01m.\u001b[39;00m\u001b[38;5;21;01mcontainers\u001b[39;00m\u001b[38;5;21;01m.\u001b[39;00m\u001b[38;5;21;01mmodels\u001b[39;00m\u001b[38;5;21;01m.\u001b[39;00m\u001b[38;5;21;01mregression\u001b[39;00m \u001b[38;5;28;01mimport\u001b[39;00m (\n\u001b[0;32m     13\u001b[0m     ALL_ALLOWED_ENGINES,\n\u001b[0;32m     14\u001b[0m     get_container_default_engines,\n\u001b[0;32m     15\u001b[0m )\n\u001b[0;32m     16\u001b[0m \u001b[38;5;28;01mfrom\u001b[39;00m \u001b[38;5;21;01mpycaret\u001b[39;00m\u001b[38;5;21;01m.\u001b[39;00m\u001b[38;5;21;01minternal\u001b[39;00m\u001b[38;5;21;01m.\u001b[39;00m\u001b[38;5;21;01mdisplay\u001b[39;00m \u001b[38;5;28;01mimport\u001b[39;00m CommonDisplay\n",
      "File \u001b[1;32m~\\anaconda3\\lib\\site-packages\\pycaret\\containers\\models\\__init__.py:1\u001b[0m\n\u001b[1;32m----> 1\u001b[0m \u001b[38;5;28;01mfrom\u001b[39;00m \u001b[38;5;21;01m.\u001b[39;00m\u001b[38;5;21;01manomaly\u001b[39;00m \u001b[38;5;28;01mimport\u001b[39;00m get_all_model_containers \u001b[38;5;28;01mas\u001b[39;00m get_all_anomaly_model_containers\n\u001b[0;32m      2\u001b[0m \u001b[38;5;28;01mfrom\u001b[39;00m \u001b[38;5;21;01m.\u001b[39;00m\u001b[38;5;21;01mbase_model\u001b[39;00m \u001b[38;5;28;01mimport\u001b[39;00m ModelContainer\n\u001b[0;32m      3\u001b[0m \u001b[38;5;28;01mfrom\u001b[39;00m \u001b[38;5;21;01m.\u001b[39;00m\u001b[38;5;21;01mclassification\u001b[39;00m \u001b[38;5;28;01mimport\u001b[39;00m get_all_model_containers \u001b[38;5;28;01mas\u001b[39;00m get_all_class_model_containers\n",
      "File \u001b[1;32m~\\anaconda3\\lib\\site-packages\\pycaret\\containers\\models\\anomaly.py:17\u001b[0m\n\u001b[0;32m     15\u001b[0m \u001b[38;5;28;01mimport\u001b[39;00m \u001b[38;5;21;01mpycaret\u001b[39;00m\u001b[38;5;21;01m.\u001b[39;00m\u001b[38;5;21;01mcontainers\u001b[39;00m\u001b[38;5;21;01m.\u001b[39;00m\u001b[38;5;21;01mbase_container\u001b[39;00m\n\u001b[0;32m     16\u001b[0m \u001b[38;5;28;01mimport\u001b[39;00m \u001b[38;5;21;01mpycaret\u001b[39;00m\u001b[38;5;21;01m.\u001b[39;00m\u001b[38;5;21;01minternal\u001b[39;00m\u001b[38;5;21;01m.\u001b[39;00m\u001b[38;5;21;01mcuml_wrappers\u001b[39;00m\n\u001b[1;32m---> 17\u001b[0m \u001b[38;5;28;01mfrom\u001b[39;00m \u001b[38;5;21;01mpycaret\u001b[39;00m\u001b[38;5;21;01m.\u001b[39;00m\u001b[38;5;21;01mcontainers\u001b[39;00m\u001b[38;5;21;01m.\u001b[39;00m\u001b[38;5;21;01mmodels\u001b[39;00m\u001b[38;5;21;01m.\u001b[39;00m\u001b[38;5;21;01mbase_model\u001b[39;00m \u001b[38;5;28;01mimport\u001b[39;00m ModelContainer\n\u001b[0;32m     18\u001b[0m \u001b[38;5;28;01mfrom\u001b[39;00m \u001b[38;5;21;01mpycaret\u001b[39;00m\u001b[38;5;21;01m.\u001b[39;00m\u001b[38;5;21;01minternal\u001b[39;00m\u001b[38;5;21;01m.\u001b[39;00m\u001b[38;5;21;01mdistributions\u001b[39;00m \u001b[38;5;28;01mimport\u001b[39;00m Distribution\n\u001b[0;32m     19\u001b[0m \u001b[38;5;28;01mfrom\u001b[39;00m \u001b[38;5;21;01mpycaret\u001b[39;00m\u001b[38;5;21;01m.\u001b[39;00m\u001b[38;5;21;01mutils\u001b[39;00m\u001b[38;5;21;01m.\u001b[39;00m\u001b[38;5;21;01mgeneric\u001b[39;00m \u001b[38;5;28;01mimport\u001b[39;00m get_logger, param_grid_to_lists\n",
      "File \u001b[1;32m~\\anaconda3\\lib\\site-packages\\pycaret\\containers\\models\\base_model.py:9\u001b[0m\n\u001b[0;32m      7\u001b[0m \u001b[38;5;28;01mfrom\u001b[39;00m \u001b[38;5;21;01mpycaret\u001b[39;00m\u001b[38;5;21;01m.\u001b[39;00m\u001b[38;5;21;01mcontainers\u001b[39;00m\u001b[38;5;21;01m.\u001b[39;00m\u001b[38;5;21;01mbase_container\u001b[39;00m \u001b[38;5;28;01mimport\u001b[39;00m BaseContainer\n\u001b[0;32m      8\u001b[0m \u001b[38;5;28;01mfrom\u001b[39;00m \u001b[38;5;21;01mpycaret\u001b[39;00m\u001b[38;5;21;01m.\u001b[39;00m\u001b[38;5;21;01minternal\u001b[39;00m\u001b[38;5;21;01m.\u001b[39;00m\u001b[38;5;21;01mdistributions\u001b[39;00m \u001b[38;5;28;01mimport\u001b[39;00m CategoricalDistribution\n\u001b[1;32m----> 9\u001b[0m \u001b[38;5;28;01mfrom\u001b[39;00m \u001b[38;5;21;01mpycaret\u001b[39;00m\u001b[38;5;21;01m.\u001b[39;00m\u001b[38;5;21;01minternal\u001b[39;00m\u001b[38;5;21;01m.\u001b[39;00m\u001b[38;5;21;01mpycaret_experiment\u001b[39;00m\u001b[38;5;21;01m.\u001b[39;00m\u001b[38;5;21;01mpycaret_experiment\u001b[39;00m \u001b[38;5;28;01mimport\u001b[39;00m _PyCaretExperiment\n\u001b[0;32m     10\u001b[0m \u001b[38;5;28;01mfrom\u001b[39;00m \u001b[38;5;21;01mpycaret\u001b[39;00m\u001b[38;5;21;01m.\u001b[39;00m\u001b[38;5;21;01mutils\u001b[39;00m\u001b[38;5;21;01m.\u001b[39;00m\u001b[38;5;21;01mgeneric\u001b[39;00m \u001b[38;5;28;01mimport\u001b[39;00m get_allowed_engines, get_logger\n\u001b[0;32m     13\u001b[0m \u001b[38;5;28;01mclass\u001b[39;00m \u001b[38;5;21;01mModelContainer\u001b[39;00m(BaseContainer):\n",
      "File \u001b[1;32m~\\anaconda3\\lib\\site-packages\\pycaret\\internal\\pycaret_experiment\\pycaret_experiment.py:12\u001b[0m\n\u001b[0;32m     10\u001b[0m \u001b[38;5;28;01mimport\u001b[39;00m \u001b[38;5;21;01mpycaret\u001b[39;00m\u001b[38;5;21;01m.\u001b[39;00m\u001b[38;5;21;01minternal\u001b[39;00m\u001b[38;5;21;01m.\u001b[39;00m\u001b[38;5;21;01mpatches\u001b[39;00m\u001b[38;5;21;01m.\u001b[39;00m\u001b[38;5;21;01msklearn\u001b[39;00m\n\u001b[0;32m     11\u001b[0m \u001b[38;5;28;01mimport\u001b[39;00m \u001b[38;5;21;01mpycaret\u001b[39;00m\u001b[38;5;21;01m.\u001b[39;00m\u001b[38;5;21;01minternal\u001b[39;00m\u001b[38;5;21;01m.\u001b[39;00m\u001b[38;5;21;01mpatches\u001b[39;00m\u001b[38;5;21;01m.\u001b[39;00m\u001b[38;5;21;01myellowbrick\u001b[39;00m\n\u001b[1;32m---> 12\u001b[0m \u001b[38;5;28;01mimport\u001b[39;00m \u001b[38;5;21;01mpycaret\u001b[39;00m\u001b[38;5;21;01m.\u001b[39;00m\u001b[38;5;21;01minternal\u001b[39;00m\u001b[38;5;21;01m.\u001b[39;00m\u001b[38;5;21;01mpersistence\u001b[39;00m\n\u001b[0;32m     13\u001b[0m \u001b[38;5;28;01mfrom\u001b[39;00m \u001b[38;5;21;01mpycaret\u001b[39;00m \u001b[38;5;28;01mimport\u001b[39;00m show_versions\n\u001b[0;32m     14\u001b[0m \u001b[38;5;28;01mfrom\u001b[39;00m \u001b[38;5;21;01mpycaret\u001b[39;00m\u001b[38;5;21;01m.\u001b[39;00m\u001b[38;5;21;01minternal\u001b[39;00m\u001b[38;5;21;01m.\u001b[39;00m\u001b[38;5;21;01mlogging\u001b[39;00m \u001b[38;5;28;01mimport\u001b[39;00m get_logger\n",
      "File \u001b[1;32m~\\anaconda3\\lib\\site-packages\\pycaret\\internal\\persistence.py:13\u001b[0m\n\u001b[0;32m     11\u001b[0m \u001b[38;5;28;01mfrom\u001b[39;00m \u001b[38;5;21;01mpycaret\u001b[39;00m\u001b[38;5;21;01m.\u001b[39;00m\u001b[38;5;21;01mutils\u001b[39;00m\u001b[38;5;21;01m.\u001b[39;00m\u001b[38;5;21;01m_dependencies\u001b[39;00m \u001b[38;5;28;01mimport\u001b[39;00m _check_soft_dependencies\n\u001b[0;32m     12\u001b[0m \u001b[38;5;28;01mfrom\u001b[39;00m \u001b[38;5;21;01mpycaret\u001b[39;00m\u001b[38;5;21;01m.\u001b[39;00m\u001b[38;5;21;01mutils\u001b[39;00m\u001b[38;5;21;01m.\u001b[39;00m\u001b[38;5;21;01mgeneric\u001b[39;00m \u001b[38;5;28;01mimport\u001b[39;00m MLUsecase, get_logger\n\u001b[1;32m---> 13\u001b[0m \u001b[38;5;28;01mfrom\u001b[39;00m \u001b[38;5;21;01mpycaret\u001b[39;00m\u001b[38;5;21;01m.\u001b[39;00m\u001b[38;5;21;01mutils\u001b[39;00m\u001b[38;5;21;01m.\u001b[39;00m\u001b[38;5;21;01mtime_series\u001b[39;00m\u001b[38;5;21;01m.\u001b[39;00m\u001b[38;5;21;01mforecasting\u001b[39;00m\u001b[38;5;21;01m.\u001b[39;00m\u001b[38;5;21;01mpipeline\u001b[39;00m \u001b[38;5;28;01mimport\u001b[39;00m _add_model_to_pipeline\n\u001b[0;32m     16\u001b[0m \u001b[38;5;28;01mdef\u001b[39;00m \u001b[38;5;21mdeploy_model\u001b[39m(\n\u001b[0;32m     17\u001b[0m     model, model_name: \u001b[38;5;28mstr\u001b[39m, authentication: \u001b[38;5;28mdict\u001b[39m, platform: \u001b[38;5;28mstr\u001b[39m \u001b[38;5;241m=\u001b[39m \u001b[38;5;124m\"\u001b[39m\u001b[38;5;124maws\u001b[39m\u001b[38;5;124m\"\u001b[39m, prep_pipe_\u001b[38;5;241m=\u001b[39m\u001b[38;5;28;01mNone\u001b[39;00m\n\u001b[0;32m     18\u001b[0m ):\n\u001b[0;32m     19\u001b[0m     \u001b[38;5;124;03m\"\"\"\u001b[39;00m\n\u001b[0;32m     20\u001b[0m \u001b[38;5;124;03m    (In Preview)\u001b[39;00m\n\u001b[0;32m     21\u001b[0m \n\u001b[1;32m   (...)\u001b[0m\n\u001b[0;32m    101\u001b[0m \n\u001b[0;32m    102\u001b[0m \u001b[38;5;124;03m    \"\"\"\u001b[39;00m\n",
      "File \u001b[1;32m~\\anaconda3\\lib\\site-packages\\pycaret\\utils\\time_series\\forecasting\\pipeline.py:6\u001b[0m\n\u001b[0;32m      4\u001b[0m \u001b[38;5;28;01mimport\u001b[39;00m \u001b[38;5;21;01mpandas\u001b[39;00m \u001b[38;5;28;01mas\u001b[39;00m \u001b[38;5;21;01mpd\u001b[39;00m\n\u001b[0;32m      5\u001b[0m \u001b[38;5;28;01mfrom\u001b[39;00m \u001b[38;5;21;01msktime\u001b[39;00m\u001b[38;5;21;01m.\u001b[39;00m\u001b[38;5;21;01mforecasting\u001b[39;00m\u001b[38;5;21;01m.\u001b[39;00m\u001b[38;5;21;01mbase\u001b[39;00m \u001b[38;5;28;01mimport\u001b[39;00m BaseForecaster\n\u001b[1;32m----> 6\u001b[0m \u001b[38;5;28;01mfrom\u001b[39;00m \u001b[38;5;21;01msktime\u001b[39;00m\u001b[38;5;21;01m.\u001b[39;00m\u001b[38;5;21;01mforecasting\u001b[39;00m\u001b[38;5;21;01m.\u001b[39;00m\u001b[38;5;21;01mcompose\u001b[39;00m \u001b[38;5;28;01mimport\u001b[39;00m ForecastingPipeline\n\u001b[0;32m      7\u001b[0m \u001b[38;5;28;01mfrom\u001b[39;00m \u001b[38;5;21;01msktime\u001b[39;00m\u001b[38;5;21;01m.\u001b[39;00m\u001b[38;5;21;01mtransformations\u001b[39;00m\u001b[38;5;21;01m.\u001b[39;00m\u001b[38;5;21;01mcompose\u001b[39;00m \u001b[38;5;28;01mimport\u001b[39;00m TransformerPipeline\n\u001b[0;32m      8\u001b[0m \u001b[38;5;28;01mfrom\u001b[39;00m \u001b[38;5;21;01msktime\u001b[39;00m\u001b[38;5;21;01m.\u001b[39;00m\u001b[38;5;21;01mtransformations\u001b[39;00m\u001b[38;5;21;01m.\u001b[39;00m\u001b[38;5;21;01mseries\u001b[39;00m\u001b[38;5;21;01m.\u001b[39;00m\u001b[38;5;21;01mimpute\u001b[39;00m \u001b[38;5;28;01mimport\u001b[39;00m Imputer\n",
      "File \u001b[1;32m~\\anaconda3\\lib\\site-packages\\sktime\\forecasting\\compose\\__init__.py:32\u001b[0m\n\u001b[0;32m      6\u001b[0m __author__ \u001b[38;5;241m=\u001b[39m [\u001b[38;5;124m\"\u001b[39m\u001b[38;5;124mmloning\u001b[39m\u001b[38;5;124m\"\u001b[39m]\n\u001b[0;32m      8\u001b[0m __all__ \u001b[38;5;241m=\u001b[39m [\n\u001b[0;32m      9\u001b[0m     \u001b[38;5;124m\"\u001b[39m\u001b[38;5;124mHierarchyEnsembleForecaster\u001b[39m\u001b[38;5;124m\"\u001b[39m,\n\u001b[0;32m     10\u001b[0m     \u001b[38;5;124m\"\u001b[39m\u001b[38;5;124mColumnEnsembleForecaster\u001b[39m\u001b[38;5;124m\"\u001b[39m,\n\u001b[1;32m   (...)\u001b[0m\n\u001b[0;32m     29\u001b[0m     \u001b[38;5;124m\"\u001b[39m\u001b[38;5;124mPermute\u001b[39m\u001b[38;5;124m\"\u001b[39m,\n\u001b[0;32m     30\u001b[0m ]\n\u001b[1;32m---> 32\u001b[0m \u001b[38;5;28;01mfrom\u001b[39;00m \u001b[38;5;21;01msktime\u001b[39;00m\u001b[38;5;21;01m.\u001b[39;00m\u001b[38;5;21;01mforecasting\u001b[39;00m\u001b[38;5;21;01m.\u001b[39;00m\u001b[38;5;21;01mcompose\u001b[39;00m\u001b[38;5;21;01m.\u001b[39;00m\u001b[38;5;21;01m_bagging\u001b[39;00m \u001b[38;5;28;01mimport\u001b[39;00m BaggingForecaster\n\u001b[0;32m     33\u001b[0m \u001b[38;5;28;01mfrom\u001b[39;00m \u001b[38;5;21;01msktime\u001b[39;00m\u001b[38;5;21;01m.\u001b[39;00m\u001b[38;5;21;01mforecasting\u001b[39;00m\u001b[38;5;21;01m.\u001b[39;00m\u001b[38;5;21;01mcompose\u001b[39;00m\u001b[38;5;21;01m.\u001b[39;00m\u001b[38;5;21;01m_column_ensemble\u001b[39;00m \u001b[38;5;28;01mimport\u001b[39;00m ColumnEnsembleForecaster\n\u001b[0;32m     34\u001b[0m \u001b[38;5;28;01mfrom\u001b[39;00m \u001b[38;5;21;01msktime\u001b[39;00m\u001b[38;5;21;01m.\u001b[39;00m\u001b[38;5;21;01mforecasting\u001b[39;00m\u001b[38;5;21;01m.\u001b[39;00m\u001b[38;5;21;01mcompose\u001b[39;00m\u001b[38;5;21;01m.\u001b[39;00m\u001b[38;5;21;01m_ensemble\u001b[39;00m \u001b[38;5;28;01mimport\u001b[39;00m (\n\u001b[0;32m     35\u001b[0m     AutoEnsembleForecaster,\n\u001b[0;32m     36\u001b[0m     EnsembleForecaster,\n\u001b[0;32m     37\u001b[0m )\n",
      "File \u001b[1;32m~\\anaconda3\\lib\\site-packages\\sktime\\forecasting\\compose\\_bagging.py:14\u001b[0m\n\u001b[0;32m     12\u001b[0m \u001b[38;5;28;01mfrom\u001b[39;00m \u001b[38;5;21;01msklearn\u001b[39;00m \u001b[38;5;28;01mimport\u001b[39;00m clone\n\u001b[0;32m     13\u001b[0m \u001b[38;5;28;01mfrom\u001b[39;00m \u001b[38;5;21;01msklearn\u001b[39;00m\u001b[38;5;21;01m.\u001b[39;00m\u001b[38;5;21;01mutils\u001b[39;00m \u001b[38;5;28;01mimport\u001b[39;00m check_random_state\n\u001b[1;32m---> 14\u001b[0m \u001b[38;5;28;01mfrom\u001b[39;00m \u001b[38;5;21;01msklearn\u001b[39;00m\u001b[38;5;21;01m.\u001b[39;00m\u001b[38;5;21;01mutils\u001b[39;00m\u001b[38;5;21;01m.\u001b[39;00m\u001b[38;5;21;01m_testing\u001b[39;00m \u001b[38;5;28;01mimport\u001b[39;00m set_random_state\n\u001b[0;32m     16\u001b[0m \u001b[38;5;28;01mfrom\u001b[39;00m \u001b[38;5;21;01msktime\u001b[39;00m\u001b[38;5;21;01m.\u001b[39;00m\u001b[38;5;21;01mdatatypes\u001b[39;00m\u001b[38;5;21;01m.\u001b[39;00m\u001b[38;5;21;01m_utilities\u001b[39;00m \u001b[38;5;28;01mimport\u001b[39;00m update_data\n\u001b[0;32m     17\u001b[0m \u001b[38;5;28;01mfrom\u001b[39;00m \u001b[38;5;21;01msktime\u001b[39;00m\u001b[38;5;21;01m.\u001b[39;00m\u001b[38;5;21;01mforecasting\u001b[39;00m\u001b[38;5;21;01m.\u001b[39;00m\u001b[38;5;21;01mbase\u001b[39;00m \u001b[38;5;28;01mimport\u001b[39;00m BaseForecaster\n",
      "File \u001b[1;32m~\\anaconda3\\lib\\site-packages\\sklearn\\utils\\_testing.py:397\u001b[0m\n\u001b[0;32m    394\u001b[0m skip_if_32bit \u001b[38;5;241m=\u001b[39m pytest\u001b[38;5;241m.\u001b[39mmark\u001b[38;5;241m.\u001b[39mskipif(_IS_32BIT, reason\u001b[38;5;241m=\u001b[39m\u001b[38;5;124m\"\u001b[39m\u001b[38;5;124mskipped on 32bit platforms\u001b[39m\u001b[38;5;124m\"\u001b[39m)\n\u001b[0;32m    395\u001b[0m fails_if_pypy \u001b[38;5;241m=\u001b[39m pytest\u001b[38;5;241m.\u001b[39mmark\u001b[38;5;241m.\u001b[39mxfail(IS_PYPY, reason\u001b[38;5;241m=\u001b[39m\u001b[38;5;124m\"\u001b[39m\u001b[38;5;124mnot compatible with PyPy\u001b[39m\u001b[38;5;124m\"\u001b[39m)\n\u001b[0;32m    396\u001b[0m fails_if_unstable_openblas \u001b[38;5;241m=\u001b[39m pytest\u001b[38;5;241m.\u001b[39mmark\u001b[38;5;241m.\u001b[39mxfail(\n\u001b[1;32m--> 397\u001b[0m     \u001b[43m_in_unstable_openblas_configuration\u001b[49m\u001b[43m(\u001b[49m\u001b[43m)\u001b[49m,\n\u001b[0;32m    398\u001b[0m     reason\u001b[38;5;241m=\u001b[39m\u001b[38;5;124m\"\u001b[39m\u001b[38;5;124mOpenBLAS is unstable for this configuration\u001b[39m\u001b[38;5;124m\"\u001b[39m,\n\u001b[0;32m    399\u001b[0m )\n\u001b[0;32m    400\u001b[0m skip_if_no_parallel \u001b[38;5;241m=\u001b[39m pytest\u001b[38;5;241m.\u001b[39mmark\u001b[38;5;241m.\u001b[39mskipif(\n\u001b[0;32m    401\u001b[0m     \u001b[38;5;129;01mnot\u001b[39;00m joblib\u001b[38;5;241m.\u001b[39mparallel\u001b[38;5;241m.\u001b[39mmp, reason\u001b[38;5;241m=\u001b[39m\u001b[38;5;124m\"\u001b[39m\u001b[38;5;124mjoblib is in serial mode\u001b[39m\u001b[38;5;124m\"\u001b[39m\n\u001b[0;32m    402\u001b[0m )\n\u001b[0;32m    404\u001b[0m \u001b[38;5;66;03m#  Decorator for tests involving both BLAS calls and multiprocessing.\u001b[39;00m\n\u001b[0;32m    405\u001b[0m \u001b[38;5;66;03m#\u001b[39;00m\n\u001b[0;32m    406\u001b[0m \u001b[38;5;66;03m#  Under POSIX (e.g. Linux or OSX), using multiprocessing in conjunction\u001b[39;00m\n\u001b[1;32m   (...)\u001b[0m\n\u001b[0;32m    420\u001b[0m \u001b[38;5;66;03m#  errors on interactively defined functions. It therefore not enabled by\u001b[39;00m\n\u001b[0;32m    421\u001b[0m \u001b[38;5;66;03m#  default.\u001b[39;00m\n",
      "File \u001b[1;32m~\\anaconda3\\lib\\site-packages\\sklearn\\utils\\__init__.py:90\u001b[0m, in \u001b[0;36m_in_unstable_openblas_configuration\u001b[1;34m()\u001b[0m\n\u001b[0;32m     87\u001b[0m \u001b[38;5;28;01mimport\u001b[39;00m \u001b[38;5;21;01mnumpy\u001b[39;00m  \u001b[38;5;66;03m# noqa\u001b[39;00m\n\u001b[0;32m     88\u001b[0m \u001b[38;5;28;01mimport\u001b[39;00m \u001b[38;5;21;01mscipy\u001b[39;00m  \u001b[38;5;66;03m# noqa\u001b[39;00m\n\u001b[1;32m---> 90\u001b[0m modules_info \u001b[38;5;241m=\u001b[39m \u001b[43mthreadpool_info\u001b[49m\u001b[43m(\u001b[49m\u001b[43m)\u001b[49m\n\u001b[0;32m     92\u001b[0m open_blas_used \u001b[38;5;241m=\u001b[39m \u001b[38;5;28many\u001b[39m(info[\u001b[38;5;124m\"\u001b[39m\u001b[38;5;124minternal_api\u001b[39m\u001b[38;5;124m\"\u001b[39m] \u001b[38;5;241m==\u001b[39m \u001b[38;5;124m\"\u001b[39m\u001b[38;5;124mopenblas\u001b[39m\u001b[38;5;124m\"\u001b[39m \u001b[38;5;28;01mfor\u001b[39;00m info \u001b[38;5;129;01min\u001b[39;00m modules_info)\n\u001b[0;32m     93\u001b[0m \u001b[38;5;28;01mif\u001b[39;00m \u001b[38;5;129;01mnot\u001b[39;00m open_blas_used:\n",
      "File \u001b[1;32m~\\anaconda3\\lib\\site-packages\\sklearn\\utils\\fixes.py:150\u001b[0m, in \u001b[0;36mthreadpool_info\u001b[1;34m()\u001b[0m\n\u001b[0;32m    148\u001b[0m     \u001b[38;5;28;01mreturn\u001b[39;00m controller\u001b[38;5;241m.\u001b[39minfo()\n\u001b[0;32m    149\u001b[0m \u001b[38;5;28;01melse\u001b[39;00m:\n\u001b[1;32m--> 150\u001b[0m     \u001b[38;5;28;01mreturn\u001b[39;00m \u001b[43mthreadpoolctl\u001b[49m\u001b[38;5;241;43m.\u001b[39;49m\u001b[43mthreadpool_info\u001b[49m\u001b[43m(\u001b[49m\u001b[43m)\u001b[49m\n",
      "File \u001b[1;32m~\\anaconda3\\lib\\site-packages\\threadpoolctl.py:124\u001b[0m, in \u001b[0;36mthreadpool_info\u001b[1;34m()\u001b[0m\n\u001b[0;32m    107\u001b[0m \u001b[38;5;129m@_format_docstring\u001b[39m(USER_APIS\u001b[38;5;241m=\u001b[39m\u001b[38;5;28mlist\u001b[39m(_ALL_USER_APIS),\n\u001b[0;32m    108\u001b[0m                    INTERNAL_APIS\u001b[38;5;241m=\u001b[39m_ALL_INTERNAL_APIS)\n\u001b[0;32m    109\u001b[0m \u001b[38;5;28;01mdef\u001b[39;00m \u001b[38;5;21mthreadpool_info\u001b[39m():\n\u001b[0;32m    110\u001b[0m     \u001b[38;5;124;03m\"\"\"Return the maximal number of threads for each detected library.\u001b[39;00m\n\u001b[0;32m    111\u001b[0m \n\u001b[0;32m    112\u001b[0m \u001b[38;5;124;03m    Return a list with all the supported modules that have been found. Each\u001b[39;00m\n\u001b[1;32m   (...)\u001b[0m\n\u001b[0;32m    122\u001b[0m \u001b[38;5;124;03m    In addition, each module may contain internal_api specific entries.\u001b[39;00m\n\u001b[0;32m    123\u001b[0m \u001b[38;5;124;03m    \"\"\"\u001b[39;00m\n\u001b[1;32m--> 124\u001b[0m     \u001b[38;5;28;01mreturn\u001b[39;00m \u001b[43m_ThreadpoolInfo\u001b[49m\u001b[43m(\u001b[49m\u001b[43muser_api\u001b[49m\u001b[38;5;241;43m=\u001b[39;49m\u001b[43m_ALL_USER_APIS\u001b[49m\u001b[43m)\u001b[49m\u001b[38;5;241m.\u001b[39mtodicts()\n",
      "File \u001b[1;32m~\\anaconda3\\lib\\site-packages\\threadpoolctl.py:340\u001b[0m, in \u001b[0;36m_ThreadpoolInfo.__init__\u001b[1;34m(self, user_api, prefixes, modules)\u001b[0m\n\u001b[0;32m    337\u001b[0m     \u001b[38;5;28mself\u001b[39m\u001b[38;5;241m.\u001b[39muser_api \u001b[38;5;241m=\u001b[39m [] \u001b[38;5;28;01mif\u001b[39;00m user_api \u001b[38;5;129;01mis\u001b[39;00m \u001b[38;5;28;01mNone\u001b[39;00m \u001b[38;5;28;01melse\u001b[39;00m user_api\n\u001b[0;32m    339\u001b[0m     \u001b[38;5;28mself\u001b[39m\u001b[38;5;241m.\u001b[39mmodules \u001b[38;5;241m=\u001b[39m []\n\u001b[1;32m--> 340\u001b[0m     \u001b[38;5;28;43mself\u001b[39;49m\u001b[38;5;241;43m.\u001b[39;49m\u001b[43m_load_modules\u001b[49m\u001b[43m(\u001b[49m\u001b[43m)\u001b[49m\n\u001b[0;32m    341\u001b[0m     \u001b[38;5;28mself\u001b[39m\u001b[38;5;241m.\u001b[39m_warn_if_incompatible_openmp()\n\u001b[0;32m    342\u001b[0m \u001b[38;5;28;01melse\u001b[39;00m:\n",
      "File \u001b[1;32m~\\anaconda3\\lib\\site-packages\\threadpoolctl.py:373\u001b[0m, in \u001b[0;36m_ThreadpoolInfo._load_modules\u001b[1;34m(self)\u001b[0m\n\u001b[0;32m    371\u001b[0m     \u001b[38;5;28mself\u001b[39m\u001b[38;5;241m.\u001b[39m_find_modules_with_dyld()\n\u001b[0;32m    372\u001b[0m \u001b[38;5;28;01melif\u001b[39;00m sys\u001b[38;5;241m.\u001b[39mplatform \u001b[38;5;241m==\u001b[39m \u001b[38;5;124m\"\u001b[39m\u001b[38;5;124mwin32\u001b[39m\u001b[38;5;124m\"\u001b[39m:\n\u001b[1;32m--> 373\u001b[0m     \u001b[38;5;28;43mself\u001b[39;49m\u001b[38;5;241;43m.\u001b[39;49m\u001b[43m_find_modules_with_enum_process_module_ex\u001b[49m\u001b[43m(\u001b[49m\u001b[43m)\u001b[49m\n\u001b[0;32m    374\u001b[0m \u001b[38;5;28;01melse\u001b[39;00m:\n\u001b[0;32m    375\u001b[0m     \u001b[38;5;28mself\u001b[39m\u001b[38;5;241m.\u001b[39m_find_modules_with_dl_iterate_phdr()\n",
      "File \u001b[1;32m~\\anaconda3\\lib\\site-packages\\threadpoolctl.py:485\u001b[0m, in \u001b[0;36m_ThreadpoolInfo._find_modules_with_enum_process_module_ex\u001b[1;34m(self)\u001b[0m\n\u001b[0;32m    482\u001b[0m         filepath \u001b[38;5;241m=\u001b[39m buf\u001b[38;5;241m.\u001b[39mvalue\n\u001b[0;32m    484\u001b[0m         \u001b[38;5;66;03m# Store the module if it is supported and selected\u001b[39;00m\n\u001b[1;32m--> 485\u001b[0m         \u001b[38;5;28;43mself\u001b[39;49m\u001b[38;5;241;43m.\u001b[39;49m\u001b[43m_make_module_from_path\u001b[49m\u001b[43m(\u001b[49m\u001b[43mfilepath\u001b[49m\u001b[43m)\u001b[49m\n\u001b[0;32m    486\u001b[0m \u001b[38;5;28;01mfinally\u001b[39;00m:\n\u001b[0;32m    487\u001b[0m     kernel_32\u001b[38;5;241m.\u001b[39mCloseHandle(h_process)\n",
      "File \u001b[1;32m~\\anaconda3\\lib\\site-packages\\threadpoolctl.py:515\u001b[0m, in \u001b[0;36m_ThreadpoolInfo._make_module_from_path\u001b[1;34m(self, filepath)\u001b[0m\n\u001b[0;32m    513\u001b[0m \u001b[38;5;28;01mif\u001b[39;00m prefix \u001b[38;5;129;01min\u001b[39;00m \u001b[38;5;28mself\u001b[39m\u001b[38;5;241m.\u001b[39mprefixes \u001b[38;5;129;01mor\u001b[39;00m user_api \u001b[38;5;129;01min\u001b[39;00m \u001b[38;5;28mself\u001b[39m\u001b[38;5;241m.\u001b[39muser_api:\n\u001b[0;32m    514\u001b[0m     module_class \u001b[38;5;241m=\u001b[39m \u001b[38;5;28mglobals\u001b[39m()[module_class]\n\u001b[1;32m--> 515\u001b[0m     module \u001b[38;5;241m=\u001b[39m \u001b[43mmodule_class\u001b[49m\u001b[43m(\u001b[49m\u001b[43mfilepath\u001b[49m\u001b[43m,\u001b[49m\u001b[43m \u001b[49m\u001b[43mprefix\u001b[49m\u001b[43m,\u001b[49m\u001b[43m \u001b[49m\u001b[43muser_api\u001b[49m\u001b[43m,\u001b[49m\u001b[43m \u001b[49m\u001b[43minternal_api\u001b[49m\u001b[43m)\u001b[49m\n\u001b[0;32m    516\u001b[0m     \u001b[38;5;28mself\u001b[39m\u001b[38;5;241m.\u001b[39mmodules\u001b[38;5;241m.\u001b[39mappend(module)\n",
      "File \u001b[1;32m~\\anaconda3\\lib\\site-packages\\threadpoolctl.py:606\u001b[0m, in \u001b[0;36m_Module.__init__\u001b[1;34m(self, filepath, prefix, user_api, internal_api)\u001b[0m\n\u001b[0;32m    604\u001b[0m \u001b[38;5;28mself\u001b[39m\u001b[38;5;241m.\u001b[39minternal_api \u001b[38;5;241m=\u001b[39m internal_api\n\u001b[0;32m    605\u001b[0m \u001b[38;5;28mself\u001b[39m\u001b[38;5;241m.\u001b[39m_dynlib \u001b[38;5;241m=\u001b[39m ctypes\u001b[38;5;241m.\u001b[39mCDLL(filepath, mode\u001b[38;5;241m=\u001b[39m_RTLD_NOLOAD)\n\u001b[1;32m--> 606\u001b[0m \u001b[38;5;28mself\u001b[39m\u001b[38;5;241m.\u001b[39mversion \u001b[38;5;241m=\u001b[39m \u001b[38;5;28;43mself\u001b[39;49m\u001b[38;5;241;43m.\u001b[39;49m\u001b[43mget_version\u001b[49m\u001b[43m(\u001b[49m\u001b[43m)\u001b[49m\n\u001b[0;32m    607\u001b[0m \u001b[38;5;28mself\u001b[39m\u001b[38;5;241m.\u001b[39mnum_threads \u001b[38;5;241m=\u001b[39m \u001b[38;5;28mself\u001b[39m\u001b[38;5;241m.\u001b[39mget_num_threads()\n\u001b[0;32m    608\u001b[0m \u001b[38;5;28mself\u001b[39m\u001b[38;5;241m.\u001b[39m_get_extra_info()\n",
      "File \u001b[1;32m~\\anaconda3\\lib\\site-packages\\threadpoolctl.py:646\u001b[0m, in \u001b[0;36m_OpenBLASModule.get_version\u001b[1;34m(self)\u001b[0m\n\u001b[0;32m    643\u001b[0m get_config \u001b[38;5;241m=\u001b[39m \u001b[38;5;28mgetattr\u001b[39m(\u001b[38;5;28mself\u001b[39m\u001b[38;5;241m.\u001b[39m_dynlib, \u001b[38;5;124m\"\u001b[39m\u001b[38;5;124mopenblas_get_config\u001b[39m\u001b[38;5;124m\"\u001b[39m,\n\u001b[0;32m    644\u001b[0m                      \u001b[38;5;28;01mlambda\u001b[39;00m: \u001b[38;5;28;01mNone\u001b[39;00m)\n\u001b[0;32m    645\u001b[0m get_config\u001b[38;5;241m.\u001b[39mrestype \u001b[38;5;241m=\u001b[39m ctypes\u001b[38;5;241m.\u001b[39mc_char_p\n\u001b[1;32m--> 646\u001b[0m config \u001b[38;5;241m=\u001b[39m \u001b[43mget_config\u001b[49m\u001b[43m(\u001b[49m\u001b[43m)\u001b[49m\u001b[38;5;241;43m.\u001b[39;49m\u001b[43msplit\u001b[49m()\n\u001b[0;32m    647\u001b[0m \u001b[38;5;28;01mif\u001b[39;00m config[\u001b[38;5;241m0\u001b[39m] \u001b[38;5;241m==\u001b[39m \u001b[38;5;124mb\u001b[39m\u001b[38;5;124m\"\u001b[39m\u001b[38;5;124mOpenBLAS\u001b[39m\u001b[38;5;124m\"\u001b[39m:\n\u001b[0;32m    648\u001b[0m     \u001b[38;5;28;01mreturn\u001b[39;00m config[\u001b[38;5;241m1\u001b[39m]\u001b[38;5;241m.\u001b[39mdecode(\u001b[38;5;124m\"\u001b[39m\u001b[38;5;124mutf-8\u001b[39m\u001b[38;5;124m\"\u001b[39m)\n",
      "\u001b[1;31mAttributeError\u001b[0m: 'NoneType' object has no attribute 'split'"
     ]
    }
   ],
   "source": [
    "from pycaret.regression import*"
   ]
  },
  {
   "cell_type": "code",
   "execution_count": 148,
   "id": "6c09901c",
   "metadata": {
    "collapsed": true
   },
   "outputs": [
    {
     "ename": "NameError",
     "evalue": "name 'setup' is not defined",
     "output_type": "error",
     "traceback": [
      "\u001b[1;31m---------------------------------------------------------------------------\u001b[0m",
      "\u001b[1;31mNameError\u001b[0m                                 Traceback (most recent call last)",
      "Cell \u001b[1;32mIn[148], line 1\u001b[0m\n\u001b[1;32m----> 1\u001b[0m \u001b[43msetup\u001b[49m(train,target\u001b[38;5;241m=\u001b[39m\u001b[38;5;124m'\u001b[39m\u001b[38;5;124mFiyat\u001b[39m\u001b[38;5;124m'\u001b[39m)\n",
      "\u001b[1;31mNameError\u001b[0m: name 'setup' is not defined"
     ]
    }
   ],
   "source": [
    "setup(train,target='Fiyat')"
   ]
  },
  {
   "cell_type": "code",
   "execution_count": 149,
   "id": "65cdd225",
   "metadata": {
    "collapsed": true
   },
   "outputs": [
    {
     "ename": "NameError",
     "evalue": "name 'compare_models' is not defined",
     "output_type": "error",
     "traceback": [
      "\u001b[1;31m---------------------------------------------------------------------------\u001b[0m",
      "\u001b[1;31mNameError\u001b[0m                                 Traceback (most recent call last)",
      "Cell \u001b[1;32mIn[149], line 1\u001b[0m\n\u001b[1;32m----> 1\u001b[0m \u001b[43mcompare_models\u001b[49m()\n",
      "\u001b[1;31mNameError\u001b[0m: name 'compare_models' is not defined"
     ]
    }
   ],
   "source": [
    "compare_models()"
   ]
  },
  {
   "cell_type": "markdown",
   "id": "f76fa976",
   "metadata": {},
   "source": [
    "# Deep Learning"
   ]
  },
  {
   "cell_type": "code",
   "execution_count": 153,
   "id": "a6336e8d",
   "metadata": {},
   "outputs": [],
   "source": [
    "#Derin Öğrenme\n",
    "from tensorflow.keras.models import Sequential\n",
    "from tensorflow.keras.layers import Dense, Activation\n",
    "from tensorflow.keras.optimizers import Adam\n",
    "from sklearn.preprocessing import MinMaxScaler\n",
    "scaler = MinMaxScaler()\n",
    "\n",
    "from sklearn.model_selection import train_test_split\n",
    "from sklearn.metrics import r2_score"
   ]
  },
  {
   "cell_type": "code",
   "execution_count": 152,
   "id": "12812e3a",
   "metadata": {},
   "outputs": [],
   "source": [
    "x_train, x_test, y_train, y_test = train_test_split(x,y, test_size=.2, random_state=7)"
   ]
  },
  {
   "cell_type": "code",
   "execution_count": 154,
   "id": "4969ba33",
   "metadata": {},
   "outputs": [],
   "source": [
    "from tensorflow.keras.layers import Dense, Flatten, Dropout, LSTM, Embedding, Bidirectional, BatchNormalization\n",
    "model=Sequential()\n",
    "model.add(Dense(81, activation='relu'))\n",
    "model.add(Dense(40, activation='relu'))\n",
    "model.add(Dense(27, activation='relu'))\n",
    "model.add(Dropout(0.3))\n",
    "model.add(Dense(19, activation='relu'))\n",
    "model.add(Dense(5, activation='relu'))\n",
    "model.add(Dense(3, activation='relu'))\n",
    "model.add(Dense(1))\n",
    "model.compile(optimizer='Adam', loss='mse')"
   ]
  },
  {
   "cell_type": "code",
   "execution_count": 155,
   "id": "643121d7",
   "metadata": {
    "collapsed": true
   },
   "outputs": [
    {
     "name": "stdout",
     "output_type": "stream",
     "text": [
      "Epoch 1/30\n",
      "13/13 [==============================] - 1s 19ms/step - loss: 0.0021 - val_loss: 8.6474e-05\n",
      "Epoch 2/30\n",
      "13/13 [==============================] - 0s 5ms/step - loss: 9.9533e-05 - val_loss: 2.5915e-05\n",
      "Epoch 3/30\n",
      "13/13 [==============================] - 0s 4ms/step - loss: 5.8111e-05 - val_loss: 1.3232e-05\n",
      "Epoch 4/30\n",
      "13/13 [==============================] - 0s 5ms/step - loss: 3.0626e-05 - val_loss: 9.2741e-06\n",
      "Epoch 5/30\n",
      "13/13 [==============================] - 0s 5ms/step - loss: 3.2220e-05 - val_loss: 8.7114e-06\n",
      "Epoch 6/30\n",
      "13/13 [==============================] - 0s 4ms/step - loss: 1.8788e-05 - val_loss: 8.6957e-06\n",
      "Epoch 7/30\n",
      "13/13 [==============================] - 0s 5ms/step - loss: 1.7370e-05 - val_loss: 8.6931e-06\n",
      "Epoch 8/30\n",
      "13/13 [==============================] - 0s 4ms/step - loss: 1.6750e-05 - val_loss: 8.7206e-06\n",
      "Epoch 9/30\n",
      "13/13 [==============================] - 0s 4ms/step - loss: 1.9461e-05 - val_loss: 8.6930e-06\n",
      "Epoch 10/30\n",
      "13/13 [==============================] - 0s 6ms/step - loss: 1.6301e-05 - val_loss: 8.6985e-06\n",
      "Epoch 11/30\n",
      "13/13 [==============================] - 0s 5ms/step - loss: 1.7589e-05 - val_loss: 8.6933e-06\n",
      "Epoch 12/30\n",
      "13/13 [==============================] - 0s 4ms/step - loss: 1.8273e-05 - val_loss: 8.6930e-06\n",
      "Epoch 13/30\n",
      "13/13 [==============================] - 0s 5ms/step - loss: 1.6128e-05 - val_loss: 8.7018e-06\n",
      "Epoch 14/30\n",
      "13/13 [==============================] - 0s 4ms/step - loss: 1.6031e-05 - val_loss: 8.7040e-06\n",
      "Epoch 15/30\n",
      "13/13 [==============================] - 0s 5ms/step - loss: 1.6303e-05 - val_loss: 8.6985e-06\n",
      "Epoch 16/30\n",
      "13/13 [==============================] - 0s 4ms/step - loss: 2.1582e-05 - val_loss: 8.7077e-06\n",
      "Epoch 17/30\n",
      "13/13 [==============================] - 0s 4ms/step - loss: 1.6498e-05 - val_loss: 8.6941e-06\n",
      "Epoch 18/30\n",
      "13/13 [==============================] - 0s 5ms/step - loss: 1.7630e-05 - val_loss: 8.6940e-06\n",
      "Epoch 19/30\n",
      "13/13 [==============================] - 0s 6ms/step - loss: 1.7789e-05 - val_loss: 8.6974e-06\n",
      "Epoch 20/30\n",
      "13/13 [==============================] - 0s 5ms/step - loss: 1.6455e-05 - val_loss: 8.6939e-06\n",
      "Epoch 21/30\n",
      "13/13 [==============================] - 0s 4ms/step - loss: 1.6026e-05 - val_loss: 8.7270e-06\n",
      "Epoch 22/30\n",
      "13/13 [==============================] - 0s 4ms/step - loss: 1.8199e-05 - val_loss: 8.6993e-06\n",
      "Epoch 23/30\n",
      "13/13 [==============================] - 0s 5ms/step - loss: 1.6114e-05 - val_loss: 8.6984e-06\n",
      "Epoch 24/30\n",
      "13/13 [==============================] - 0s 4ms/step - loss: 1.6190e-05 - val_loss: 8.7175e-06\n",
      "Epoch 25/30\n",
      "13/13 [==============================] - 0s 5ms/step - loss: 1.6072e-05 - val_loss: 8.7401e-06\n",
      "Epoch 26/30\n",
      "13/13 [==============================] - 0s 4ms/step - loss: 1.6214e-05 - val_loss: 8.7046e-06\n",
      "Epoch 27/30\n",
      "13/13 [==============================] - 0s 5ms/step - loss: 1.6378e-05 - val_loss: 8.7022e-06\n",
      "Epoch 28/30\n",
      "13/13 [==============================] - 0s 4ms/step - loss: 1.6163e-05 - val_loss: 8.6934e-06\n",
      "Epoch 29/30\n",
      "13/13 [==============================] - 0s 4ms/step - loss: 1.6051e-05 - val_loss: 8.6987e-06\n",
      "Epoch 30/30\n",
      "13/13 [==============================] - 0s 4ms/step - loss: 1.6013e-05 - val_loss: 8.7204e-06\n"
     ]
    },
    {
     "data": {
      "text/plain": [
       "<keras.callbacks.History at 0x246458fd9f0>"
      ]
     },
     "execution_count": 155,
     "metadata": {},
     "output_type": "execute_result"
    }
   ],
   "source": [
    "model.fit(x=x_train,y=y_train,validation_data=(x_test,y_test),verbose=1,epochs=30 )"
   ]
  },
  {
   "cell_type": "code",
   "execution_count": 156,
   "id": "f6b9a5be",
   "metadata": {},
   "outputs": [
    {
     "name": "stdout",
     "output_type": "stream",
     "text": [
      "4/4 [==============================] - 0s 6ms/step\n"
     ]
    }
   ],
   "source": [
    "pred=model.predict(x_test)"
   ]
  },
  {
   "cell_type": "code",
   "execution_count": 157,
   "id": "129ecbae",
   "metadata": {},
   "outputs": [
    {
     "data": {
      "text/plain": [
       "0.0029530257260390563"
      ]
     },
     "execution_count": 157,
     "metadata": {},
     "output_type": "execute_result"
    }
   ],
   "source": [
    "(mean_squared_error(y_test, pred))**.5"
   ]
  },
  {
   "cell_type": "code",
   "execution_count": 158,
   "id": "793c9eac",
   "metadata": {},
   "outputs": [
    {
     "data": {
      "text/plain": [
       "-0.003147015150028132"
      ]
     },
     "execution_count": 158,
     "metadata": {},
     "output_type": "execute_result"
    }
   ],
   "source": [
    "r2_score(y_test, pred)"
   ]
  },
  {
   "cell_type": "code",
   "execution_count": null,
   "id": "d40a194e",
   "metadata": {},
   "outputs": [],
   "source": []
  }
 ],
 "metadata": {
  "kernelspec": {
   "display_name": "Python 3 (ipykernel)",
   "language": "python",
   "name": "python3"
  },
  "language_info": {
   "codemirror_mode": {
    "name": "ipython",
    "version": 3
   },
   "file_extension": ".py",
   "mimetype": "text/x-python",
   "name": "python",
   "nbconvert_exporter": "python",
   "pygments_lexer": "ipython3",
   "version": "3.10.9"
  }
 },
 "nbformat": 4,
 "nbformat_minor": 5
}
